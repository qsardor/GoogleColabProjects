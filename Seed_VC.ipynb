{
  "cells": [
    {
      "cell_type": "markdown",
      "metadata": {
        "id": "view-in-github",
        "colab_type": "text"
      },
      "source": [
        "<a href=\"https://colab.research.google.com/github/qsardor/GoogleColabProjects/blob/main/Seed_VC.ipynb\" target=\"_parent\"><img src=\"https://colab.research.google.com/assets/colab-badge.svg\" alt=\"Open In Colab\"/></a>"
      ]
    },
    {
      "cell_type": "code",
      "execution_count": 1,
      "metadata": {
        "id": "pfNA4moQK9eM"
      },
      "outputs": [],
      "source": [
        "!git clone -q https://huggingface.co/spaces/Plachta/Seed-VC app\n",
        "%cd app\n",
        "!sed -i \"s/).launch()/).launch(share=True)/\" app.py\n",
        "!pip install --quiet -r  requirements.txt && pip install --quiet protobuf tensorflow numpy gradio spaces\n",
        "!python app.py"
      ]
    }
  ],
  "metadata": {
    "accelerator": "GPU",
    "colab": {
      "gpuType": "T4",
      "provenance": [],
      "authorship_tag": "ABX9TyOUlyfehI8Jsgj0jixYAIxZ",
      "include_colab_link": true
    },
    "kernelspec": {
      "display_name": "Python 3",
      "name": "python3"
    },
    "language_info": {
      "name": "python"
    }
  },
  "nbformat": 4,
  "nbformat_minor": 0
}