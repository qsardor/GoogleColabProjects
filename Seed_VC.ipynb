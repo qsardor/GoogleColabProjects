{
  "cells": [
    {
      "cell_type": "markdown",
      "metadata": {
        "id": "view-in-github",
        "colab_type": "text"
      },
      "source": [
        "<a href=\"https://colab.research.google.com/github/qsardor/GoogleColabProjects/blob/main/Seed_VC.ipynb\" target=\"_parent\"><img src=\"https://colab.research.google.com/assets/colab-badge.svg\" alt=\"Open In Colab\"/></a>"
      ]
    },
    {
      "cell_type": "markdown",
      "source": [
        "First install Everything. The Restart Session require after install finished."
      ],
      "metadata": {
        "id": "huwS03fHOkEv"
      }
    },
    {
      "cell_type": "code",
      "execution_count": null,
      "metadata": {
        "id": "pfNA4moQK9eM"
      },
      "outputs": [],
      "source": [
        "!git clone https://huggingface.co/spaces/Plachta/Seed-VC seed-vc\n",
        "%cd seed-vc\n",
        "!sed -i \"s/).launch()/).launch(share=True)/\" app.py\n",
        "!pip install -r requirements.txt\n",
        "!pip install spaces protobuf==3.20.3 tensorflow==2.12.0"
      ]
    },
    {
      "cell_type": "markdown",
      "source": [
        "After everything installed, restart the session by pressing pop-up screen. After that, launch the app.py and enjoy. :)"
      ],
      "metadata": {
        "id": "oaQJCVsUOH1w"
      }
    },
    {
      "cell_type": "code",
      "source": [
        "!python seed-vc/app.py"
      ],
      "metadata": {
        "id": "OApnJPq3OWP0"
      },
      "execution_count": null,
      "outputs": []
    }
  ],
  "metadata": {
    "accelerator": "GPU",
    "colab": {
      "gpuType": "T4",
      "provenance": [],
      "authorship_tag": "ABX9TyOelkk+ZCGNk4W4qcIGm8eG",
      "include_colab_link": true
    },
    "kernelspec": {
      "display_name": "Python 3",
      "name": "python3"
    },
    "language_info": {
      "name": "python"
    }
  },
  "nbformat": 4,
  "nbformat_minor": 0
}