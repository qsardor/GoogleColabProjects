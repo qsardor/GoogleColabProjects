{
  "cells": [
    {
      "cell_type": "markdown",
      "metadata": {
        "id": "view-in-github",
        "colab_type": "text"
      },
      "source": [
        "<a href=\"https://colab.research.google.com/github/qsardor/GoogleColabProjects/blob/main/DeepFake_FaceFusion.ipynb\" target=\"_parent\"><img src=\"https://colab.research.google.com/assets/colab-badge.svg\" alt=\"Open In Colab\"/></a>"
      ]
    },
    {
      "cell_type": "markdown",
      "source": [
        "---\n",
        "\n",
        "**Last Update : 1 July 2024**\n",
        "\n",
        "---"
      ],
      "metadata": {
        "id": "CzF2tF238ahA"
      }
    },
    {
      "cell_type": "code",
      "execution_count": null,
      "metadata": {
        "id": "ZlrnUA3i3gMB",
        "cellView": "form"
      },
      "outputs": [],
      "source": [
        "#@markdown # Step 1 (6 Minutes)\n",
        "#@markdown # Install FaceFusion (Latest Version : 2.6.1)\n",
        "\n",
        "from IPython.display import clear_output\n",
        "import torch\n",
        "import codecs\n",
        "\n",
        "if torch.cuda.is_available():\n",
        "  !apt-get update\n",
        "  !apt-get install -y nvidia-cuda-toolkit\n",
        "  device=\"cuda\"\n",
        "  print(\"Using GPU\")\n",
        "else:\n",
        "  device=\"cpu\"\n",
        "  print(\"Using CPU\")\n",
        "\n",
        "\n",
        "git_repo_rot13 = 'uggcf://tvguho.pbz/snprshfvba/snprshfvba'\n",
        "git_repo = codecs.decode(git_repo_rot13, 'rot 13')\n",
        "\n",
        "!git clone $git_repo --branch 2.6.1 --single-branch\n",
        "\n",
        "directory_rot13 = 'snprshfvba'\n",
        "directory = codecs.decode(directory_rot13, 'rot 13')\n",
        "\n",
        "%cd /content/$directory\n",
        "!python install.py --onnxruntime cuda-12.2 --skip-conda\n",
        "\n",
        "clear_output()\n",
        "print(\"Installed!\")"
      ]
    },
    {
      "cell_type": "markdown",
      "source": [
        "---\n",
        "\n",
        "**Running FaceFusion 2.6.1**\n",
        "\n",
        "---"
      ],
      "metadata": {
        "id": "2gSXQ8Rj_N-M"
      }
    },
    {
      "cell_type": "code",
      "execution_count": null,
      "metadata": {
        "id": "YVHiNI-bb6IB",
        "cellView": "form"
      },
      "outputs": [],
      "source": [
        "#@markdown # Option 1 : Running On Gradio\n",
        "#@markdown _Wait for downloading components, Then open the Gradio link that will appear_\n",
        "\n",
        "import codecs\n",
        "import re\n",
        "\n",
        "%cd /content/$directory\n",
        "\n",
        "Tunnel = \"Gradio\"\n",
        "\n",
        "if Tunnel == \"Gradio\":\n",
        "  file_path_ui_rot13 = \"/pbagrag/snprshfvba/snprshfvba/hvf/ynlbhgf/qrsnhyg.cl\"\n",
        "  file_path_ui = codecs.decode(file_path_ui_rot13, 'rot 13')\n",
        "  !sed -i 's/quiet = True/quiet=True,share=True/g' $file_path_ui\n",
        "elif Tunnel == \"Ngrok\":\n",
        "  !sed -i 's/quiet=True,share=True/quiet = True/g' $file_path_ui\n",
        "  !pip install pyngrok\n",
        "  from pyngrok import ngrok\n",
        "  ngrok.set_auth_token(ngrok_tunnel_authtoken)\n",
        "  http_tunnel = ngrok.connect(7860, bind_tls=True)\n",
        "  clear_output()\n",
        "  print(\"Ngrok Tunnel Public URL:\", http_tunnel.public_url)\n",
        "elif Tunnel == \"Cloudfare\":\n",
        "  !sed -i 's/quiet=True,share=True/quiet = True/g' $file_path_ui\n",
        "  # download cloudfare\n",
        "  !curl -LO https://github.com/cloudflare/cloudflared/releases/latest/download/cloudflared-linux-amd64.deb\n",
        "  !dpkg -i cloudflared-linux-amd64.deb\n",
        "  !rm -rf nohup.out\n",
        "  import time\n",
        "  # Run cloudflare\n",
        "  !nohup cloudflared tunnel --url localhost:7860 &\n",
        "  clear_output()\n",
        "  time.sleep(5)\n",
        "  # Find and print the Cloudflare URL with a prefix\n",
        "  cloudflare_url = !grep -oE \"https://[a-zA-Z0-9.-]+\\.trycloudflare\\.com\" nohup.out\n",
        "  print(f\"Cloudfare Tunnel Public URL: {cloudflare_url[0]}\")\n",
        "elif Tunnel == \"LocalTunnel\":\n",
        "  !sed -i 's/quiet=True,share=True/quiet = True/g' $file_path_ui\n",
        "  # install\n",
        "  !npm install -g localtunnel\n",
        "  import time\n",
        "  import urllib\n",
        "  # run localtunnel\n",
        "  with open('url.txt', 'w') as file:\n",
        "        file.write('')\n",
        "\n",
        "  get_ipython().system_raw('lt --port 7860 >> url.txt 2>&1 &')\n",
        "\n",
        "  time.sleep(4)\n",
        "\n",
        "  endpoint_ip = urllib.request.urlopen('https://ipv4.icanhazip.com').read().decode('utf8').strip(\"\\n\")\n",
        "\n",
        "  with open('url.txt', 'r') as file:\n",
        "      tunnel_url = file.read()\n",
        "      tunnel_url = tunnel_url.replace(\"your url is: \", \"\")\n",
        "\n",
        "  clear_output()\n",
        "  print(f\"LocalTunnel Tunnel Public URL: \\033[0m\\033[93m{tunnel_url}\\033[0m\", end=\"\\033[0m\")\n",
        "\n",
        "  print(f'LocalTunnel Password: {endpoint_ip}')\n",
        "\n",
        "\n",
        "if device==\"cuda\":\n",
        "  !python run.py --execution-providers cuda\n",
        "else:\n",
        "  !python run.py --execution-providers cpu\n"
      ]
    },
    {
      "cell_type": "code",
      "source": [
        "#@markdown # Option 2 : Running On Local\n",
        "#@markdown _See how to Use this option down below_\n",
        "\n",
        "!npm install -g localtunnel\n",
        "!pip install colorama\n",
        "\n",
        "import subprocess\n",
        "import threading\n",
        "import time\n",
        "import socket\n",
        "import urllib.request\n",
        "\n",
        "def iframe_thread(port):\n",
        "    while True:\n",
        "        time.sleep(0.5)\n",
        "        sock= socket.socket(socket.AF_INET, socket.SOCK_STREAM)\n",
        "        result = sock.connect_ex(('127.0.0.1', port))\n",
        "        if result == 0:\n",
        "            break\n",
        "        sock.close()\n",
        "\n",
        "        from colorama import Fore, Style\n",
        "    print (Fore.GREEN + \"\\nIP: \", Fore. RED, urllib.request.urlopen('https://ipv4.icanhazip.com').read().decode('utf8').strip(\"\\n\"), \"\\n\", Style. RESET_ALL)\n",
        "    p = subprocess.Popen([\"lt\", \"--port\", \"{}\".format(port)], stdout=subprocess.PIPE)\n",
        "    for line in p.stdout:\n",
        "        print(line.decode(), end='')\n",
        "threading.Thread (target=iframe_thread, daemon=True, args=(7860,)).start()\n",
        "\n",
        "\n",
        "!python run.py"
      ],
      "metadata": {
        "cellView": "form",
        "id": "cjkYg0sc-FuG"
      },
      "execution_count": null,
      "outputs": []
    },
    {
      "cell_type": "markdown",
      "source": [
        "# Option 2 Guide\n",
        "<div class=\"separator\" style=\"clear: both;\"><a href=\"https://blogger.googleusercontent.com/img/b/R29vZ2xl/AVvXsEjfKACuaL3QHY7poKXKusuCGzfuRlgrHKFXYWvw7ee3IENqCZ82evVXg8kkzFw0OwFEVsZajCQCqXOvsdFWd13sbiS523h6xaLFNMMh-Zh25r4AwxGonsSCqF5nALpsC6m06ckj9O0itxiEDi7-IURP3Wdv6Kp9NdxvFA9humI_bCbc3c9JzcEV7TwodPo/s1600/collage.png\" style=\"display: block; padding: 1em 0px; text-align: center;\"><img alt=\"\" border=\"0\" data-original-height=\"1500\" data-original-width=\"1920\" src=\"https://blogger.googleusercontent.com/img/b/R29vZ2xl/AVvXsEjfKACuaL3QHY7poKXKusuCGzfuRlgrHKFXYWvw7ee3IENqCZ82evVXg8kkzFw0OwFEVsZajCQCqXOvsdFWd13sbiS523h6xaLFNMMh-Zh25r4AwxGonsSCqF5nALpsC6m06ckj9O0itxiEDi7-IURP3Wdv6Kp9NdxvFA9humI_bCbc3c9JzcEV7TwodPo/s1600/collage.png\" /></a></div>"
      ],
      "metadata": {
        "id": "u9P0r-80-JKT"
      }
    }
  ],
  "metadata": {
    "accelerator": "GPU",
    "colab": {
      "provenance": [],
      "include_colab_link": true
    },
    "kernelspec": {
      "display_name": "Python",
      "name": "python3"
    },
    "language_info": {
      "name": "python"
    }
  },
  "nbformat": 4,
  "nbformat_minor": 0
}