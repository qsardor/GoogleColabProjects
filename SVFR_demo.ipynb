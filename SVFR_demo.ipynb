{
  "nbformat": 4,
  "nbformat_minor": 0,
  "metadata": {
    "colab": {
      "provenance": [],
      "gpuType": "T4",
      "authorship_tag": "ABX9TyNJuZltSREKJJ/rEm58eNsM",
      "include_colab_link": true
    },
    "kernelspec": {
      "name": "python3",
      "display_name": "Python 3"
    },
    "language_info": {
      "name": "python"
    },
    "accelerator": "GPU"
  },
  "cells": [
    {
      "cell_type": "markdown",
      "metadata": {
        "id": "view-in-github",
        "colab_type": "text"
      },
      "source": [
        "<a href=\"https://colab.research.google.com/github/qsardor/GoogleColabProjects/blob/main/SVFR_demo.ipynb\" target=\"_parent\"><img src=\"https://colab.research.google.com/assets/colab-badge.svg\" alt=\"Open In Colab\"/></a>"
      ]
    },
    {
      "cell_type": "code",
      "execution_count": null,
      "metadata": {
        "id": "RrOEZJantyPX"
      },
      "outputs": [],
      "source": [
        "!git clone -q https://huggingface.co/spaces/fffiloni/SVFR-demo app\n",
        "%cd app\n",
        "!sed -i \"s/launch(show_api=False, show_error=True)/launch(show_api=False, show_error=True, share=True)/\" app.py && echo \"Installation started. It may take a minutes\"\n",
        "!pip install --quiet -r requirements.txt\n",
        "!pip install gradio spaces && echo \"Installation succeeded. Launching the SVFR\"\n",
        "!python app.py"
      ]
    }
  ]
}