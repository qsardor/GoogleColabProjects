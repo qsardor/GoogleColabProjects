{
  "nbformat": 4,
  "nbformat_minor": 0,
  "metadata": {
    "colab": {
      "provenance": [],
      "gpuType": "T4",
      "authorship_tag": "ABX9TyNdea8kYt+iSWeh0rw2waTV",
      "include_colab_link": true
    },
    "kernelspec": {
      "name": "python3",
      "display_name": "Python 3"
    },
    "language_info": {
      "name": "python"
    },
    "accelerator": "GPU"
  },
  "cells": [
    {
      "cell_type": "markdown",
      "metadata": {
        "id": "view-in-github",
        "colab_type": "text"
      },
      "source": [
        "<a href=\"https://colab.research.google.com/github/qsardor/GoogleColabProjects/blob/main/Tile_Upscaler.ipynb\" target=\"_parent\"><img src=\"https://colab.research.google.com/assets/colab-badge.svg\" alt=\"Open In Colab\"/></a>"
      ]
    },
    {
      "cell_type": "code",
      "execution_count": null,
      "metadata": {
        "cellView": "form",
        "id": "0vOYr5ZcSSEB"
      },
      "outputs": [],
      "source": [
        "#@title **Launch Tile-Upscaler**\n",
        "#@markdown This cell will clone the repository, modify the launch settings for a public URL, install dependencies quietly, and start the Gradio app. Please wait for the installation and launch process to complete. A public URL (like `*.gradio.live`) will appear in the output below.\n",
        "\n",
        "import os\n",
        "import sys\n",
        "import re # Import regex module for more flexible replacement\n",
        "\n",
        "print(\"⏳ Cloning repository...\")\n",
        "# Clone quietly\n",
        "!git clone -q https://huggingface.co/spaces/gokaygokay/Tile-Upscaler app\n",
        "print(\"✅ Repository cloned.\")\n",
        "\n",
        "# Change directory\n",
        "try:\n",
        "    os.chdir('app')\n",
        "    print(f\"✅ Changed directory to: {os.getcwd()}\")\n",
        "except FileNotFoundError:\n",
        "    print(f\"❌ Error: 'app' directory not found after cloning. Check clone step.\")\n",
        "    sys.exit(1)\n",
        "\n",
        "print(\"⏳ Modifying app.py for public sharing...\")\n",
        "# Modify app.py to add share=True using Python\n",
        "try:\n",
        "    with open('app.py', 'r', encoding='utf-8') as f:\n",
        "        content = f.read()\n",
        "\n",
        "    # Use regex to find .launch() potentially with arguments inside and add share=True\n",
        "    # This is more robust than a simple string replace\n",
        "    # It looks for patterns like app.launch(...), demo.launch(), iface.launch(debug=True), etc.\n",
        "    modified_content, n_replacements = re.subn(\n",
        "        r\"(\\.launch\\s*\\()\\s*([^)]*\\)?)\",  # Pattern: .launch( possibly_existing_args )\n",
        "        r'\\1share=True, \\2',          # Replacement: .launch(share=True, possibly_existing_args )\n",
        "        content,\n",
        "        count=1                       # Replace only the first occurrence towards the end likely\n",
        "    )\n",
        "\n",
        "    if n_replacements > 0:\n",
        "        with open('app.py', 'w', encoding='utf-8') as f:\n",
        "            f.write(modified_content)\n",
        "        print(\"✅ app.py modified successfully to include share=True.\")\n",
        "        # Optional: verify the change\n",
        "        # !grep \"launch(share=True\" app.py\n",
        "    else:\n",
        "        # Fallback or warning if the pattern wasn't found\n",
        "        print(\"⚠️ Warning: Could not automatically find and modify '.launch()' in app.py.\")\n",
        "        print(\"   The app might launch without a public URL. Trying simple replacement as fallback...\")\n",
        "        # Try simple replacement as a fallback (less robust)\n",
        "        if 'demo.launch()' in content:\n",
        "             modified_content = content.replace('demo.launch()', 'demo.launch(share=True)')\n",
        "             with open('app.py', 'w', encoding='utf-8') as f:\n",
        "                 f.write(modified_content)\n",
        "             print(\"✅ app.py modified using simple replacement.\")\n",
        "        elif 'app.launch()' in content:\n",
        "             modified_content = content.replace('app.launch()', 'app.launch(share=True)')\n",
        "             with open('app.py', 'w', encoding='utf-8') as f:\n",
        "                 f.write(modified_content)\n",
        "             print(\"✅ app.py modified using simple replacement.\")\n",
        "        else:\n",
        "             print(\"❌ Fallback replacement failed. Manual check of app.py might be needed if public URL is required.\")\n",
        "             # Proceeding anyway, might only get local URL\n",
        "\n",
        "except FileNotFoundError:\n",
        "    print(f\"❌ Error: 'app.py' not found in the {os.getcwd()} directory.\")\n",
        "    sys.exit(1)\n",
        "except Exception as e:\n",
        "    print(f\"❌ Error modifying app.py: {e}\")\n",
        "    # Decide if you want to exit or continue without the modification\n",
        "    # sys.exit(1) # Or just print a warning and continue\n",
        "\n",
        "print(\"⏳ Installing dependencies quietly... (This may take a few minutes)\")\n",
        "# Install quietly and redirect output\n",
        "!pip install --quiet -r requirements.txt > pip_install.log 2>&1\n",
        "# Check if installation seems okay by checking for a common package (e.g., gradio)\n",
        "try:\n",
        "    import gradio\n",
        "    print(\"✅ Dependencies installed successfully.\")\n",
        "except ImportError:\n",
        "    print(\"⚠️ Warning: Dependency installation might have failed or Gradio is not directly imported.\")\n",
        "    print(\"   Check pip_install.log for details if errors occur.\")\n",
        "    # !cat pip_install.log # Uncomment to view log if needed\n",
        "\n",
        "print(\"\\n🚀 Launching Gradio app... Please wait for the public URL.\")\n",
        "# Run the app - Output will include the Gradio link\n",
        "!python app.py"
      ]
    }
  ]
}