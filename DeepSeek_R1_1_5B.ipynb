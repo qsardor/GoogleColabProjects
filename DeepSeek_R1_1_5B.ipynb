{
  "nbformat": 4,
  "nbformat_minor": 0,
  "metadata": {
    "colab": {
      "provenance": [],
      "gpuType": "T4",
      "authorship_tag": "ABX9TyPlX+mVoePKHajq0DR8skky",
      "include_colab_link": true
    },
    "kernelspec": {
      "name": "python3",
      "display_name": "Python 3"
    },
    "language_info": {
      "name": "python"
    },
    "accelerator": "GPU"
  },
  "cells": [
    {
      "cell_type": "markdown",
      "metadata": {
        "id": "view-in-github",
        "colab_type": "text"
      },
      "source": [
        "<a href=\"https://colab.research.google.com/github/qsardor/GoogleColabProjects/blob/main/DeepSeek_R1_1_5B.ipynb\" target=\"_parent\"><img src=\"https://colab.research.google.com/assets/colab-badge.svg\" alt=\"Open In Colab\"/></a>"
      ]
    },
    {
      "cell_type": "code",
      "source": [
        "# Install required packages\n",
        "!pip install -q gradio transformers accelerate bitsandbytes\n",
        "\n",
        "from google.colab import userdata\n",
        "from transformers import AutoTokenizer, AutoModelForCausalLM, BitsAndBytesConfig\n",
        "import gradio as gr\n",
        "import time\n",
        "\n",
        "# --- Configuration --- #\n",
        "MODEL_NAME = \"deepseek-ai/DeepSeek-R1-Distill-Qwen-1.5B\"\n",
        "\n",
        "# --- Load Credentials --- #\n",
        "HF_TOKEN = userdata.get('HF_TOKEN')\n",
        "\n",
        "# --- Model Loading --- #\n",
        "print(\"🚀 Loading model...\")\n",
        "quant_config = BitsAndBytesConfig(\n",
        "    load_in_4bit=True,\n",
        "    bnb_4bit_compute_dtype=\"float16\",\n",
        "    bnb_4bit_quant_type=\"nf4\"\n",
        ")\n",
        "\n",
        "tokenizer = AutoTokenizer.from_pretrained(MODEL_NAME, token=HF_TOKEN)\n",
        "model = AutoModelForCausalLM.from_pretrained(\n",
        "    MODEL_NAME,\n",
        "    device_map=\"auto\",\n",
        "    quantization_config=quant_config,\n",
        "    token=HF_TOKEN\n",
        ")\n",
        "\n",
        "# --- Chat Function --- #\n",
        "def respond(message, history):\n",
        "    formatted_input = tokenizer.apply_chat_template(\n",
        "        [{\"role\": \"user\", \"content\": message}],\n",
        "        tokenize=False,\n",
        "        add_generation_prompt=True\n",
        "    )\n",
        "\n",
        "    inputs = tokenizer(formatted_input, return_tensors=\"pt\").to(model.device)\n",
        "    outputs = model.generate(\n",
        "        **inputs,\n",
        "        max_new_tokens=512,\n",
        "        temperature=0.7,\n",
        "        top_p=0.9,\n",
        "        do_sample=True,\n",
        "        eos_token_id=tokenizer.eos_token_id\n",
        "    )\n",
        "\n",
        "    return tokenizer.decode(outputs[0][inputs.input_ids.shape[1]:], skip_special_tokens=True)\n",
        "\n",
        "# --- Gradio Interface --- #\n",
        "def create_interface():\n",
        "    return gr.ChatInterface(\n",
        "        fn=respond,\n",
        "        title=\"DeepSeek-R1 Chatbot\",\n",
        "        description=\"Safe & helpful AI assistant\",\n",
        "        theme=\"soft\",\n",
        "        examples=[\"Hello!\", \"Explain quantum computing\", \"How to make pancakes?\"]\n",
        "    )\n",
        "\n",
        "# --- Launch with Public Link --- #\n",
        "print(\"🌐 Starting Gradio server...\")\n",
        "interface = create_interface()\n",
        "public_url = interface.launch(share=True, server_port=7860)[1]\n",
        "print(f\"\\n✅ Public URL: {public_url}\\n\")\n",
        "\n",
        "# Keep the cell running\n",
        "try:\n",
        "    while True:\n",
        "        time.sleep(3600)  # Keep alive in 1-hour intervals\n",
        "except KeyboardInterrupt:\n",
        "    print(\"\\n🔴 Shutting down...\")\n",
        "    interface.close()"
      ],
      "metadata": {
        "id": "1AEG0aCI2i2-"
      },
      "execution_count": null,
      "outputs": []
    }
  ]
}