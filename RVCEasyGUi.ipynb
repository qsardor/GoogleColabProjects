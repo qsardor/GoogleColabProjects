{
  "cells": [
    {
      "cell_type": "markdown",
      "metadata": {
        "id": "view-in-github",
        "colab_type": "text"
      },
      "source": [
        "<a href=\"https://colab.research.google.com/github/qsardor/GoogleColabProjects/blob/main/RVCEasyGUi.ipynb\" target=\"_parent\"><img src=\"https://colab.research.google.com/assets/colab-badge.svg\" alt=\"Open In Colab\"/></a>"
      ]
    },
    {
      "cell_type": "markdown",
      "metadata": {
        "id": "9eTQ6hunwf8p"
      },
      "source": [
        "\n",
        "[![](https://count.nett.moe/get/ila/img)]()\n",
        "\n",
        "\n",
        "\n"
      ]
    },
    {
      "cell_type": "markdown",
      "metadata": {
        "id": "0t_xKpQ-IuD2"
      },
      "source": [
        " This colab was created by\n",
        "\n",
        "*   Angetyde\n",
        "*   Poopmaster\n",
        "*  l3af\n",
        "*   Using ilaria mainline by thestingerx\n",
        "\n",
        "For and suggestions or problems faced please ask on help channels on Ai Hub or contact Angetyde,Poopmaster or l3af (In Ai Hub)\n",
        "\n",
        "\n",
        "\n",
        "\n",
        "\n",
        "\n",
        "\n",
        "\n",
        "\n",
        "\n"
      ]
    },
    {
      "cell_type": "code",
      "execution_count": null,
      "metadata": {
        "id": "DTv-373CDaIL"
      },
      "outputs": [],
      "source": [
        "#boot base64 or rot13 depending on your preference, it if rot13 is blocked try base64, if both are dissalowwed ask Ilaria RVC staff or make an issue in the ilaria rvc Mainline github page."
      ]
    },
    {
      "cell_type": "markdown",
      "metadata": {
        "id": "9qpCkSOUCkFr"
      },
      "source": [
        "# Rot13\n",
        "\n"
      ]
    },
    {
      "cell_type": "code",
      "execution_count": null,
      "metadata": {
        "cellView": "form",
        "id": "pz3lRmDHl_JG"
      },
      "outputs": [],
      "source": [
        "# @title Download\n",
        "!git clone https://github.com/TheStingerX/Ilaria-RVC-Mainline\n",
        "!pip install aria2\n",
        "!pip install pip==24.0\n",
        "import codecs\n",
        "from IPython.display import clear_output, Javascript\n",
        "import urllib.request\n",
        "e = codecs.decode('IbvprPbairefvbaJroHV','rot_13')\n",
        "%cd Ilaria-RVC-Mainline\n",
        "!aria2c --console-log-level=error -c -x 16 -s 16 -k 1M https://huggingface.co/lj1995/{e}/resolve/main/pretrained_v2/D32k.pth -d /content/Ilaria-RVC-Mainline/assets/pretrained_v2 -o D32k.pth\n",
        "!aria2c --console-log-level=error -c -x 16 -s 16 -k 1M https://huggingface.co/lj1995/{e}/resolve/main/pretrained_v2/D40k.pth -d /content/Ilaria-RVC-Mainline/assets/pretrained_v2 -o D40k.pth\n",
        "!aria2c --console-log-level=error -c -x 16 -s 16 -k 1M https://huggingface.co/lj1995/{e}/resolve/main/pretrained_v2/D48k.pth -d /content/Ilaria-RVC-Mainline/assets/pretrained_v2 -o D48k.pth\n",
        "!aria2c --console-log-level=error -c -x 16 -s 16 -k 1M https://huggingface.co/lj1995/{e}/resolve/main/pretrained_v2/G32k.pth -d /content/Ilaria-RVC-Mainline/assets/pretrained_v2 -o G32k.pth\n",
        "!aria2c --console-log-level=error -c -x 16 -s 16 -k 1M https://huggingface.co/lj1995/{e}/resolve/main/pretrained_v2/G40k.pth -d /content/Ilaria-RVC-Mainline/assets/pretrained_v2 -o G40k.pth\n",
        "!aria2c --console-log-level=error -c -x 16 -s 16 -k 1M https://huggingface.co/lj1995/{e}/resolve/main/pretrained_v2/G48k.pth -d /content/Ilaria-RVC-Mainline/assets/pretrained_v2 -o G48k.pth\n",
        "!aria2c --console-log-level=error -c -x 16 -s 16 -k 1M https://huggingface.co/lj1995/{e}/resolve/main/pretrained_v2/f0D32k.pth -d /content/Ilaria-RVC-Mainline/assets/pretrained_v2 -o f0D32k.pth\n",
        "!aria2c --console-log-level=error -c -x 16 -s 16 -k 1M https://huggingface.co/lj1995/{e}/resolve/main/pretrained_v2/f0D40k.pth -d /content/Ilaria-RVC-Mainline/assets/pretrained_v2 -o f0D40k.pth\n",
        "!aria2c --console-log-level=error -c -x 16 -s 16 -k 1M https://huggingface.co/lj1995/{e}/resolve/main/pretrained_v2/f0D48k.pth -d /content/Ilaria-RVC-Mainline/assets/pretrained_v2 -o f0D48k.pth\n",
        "!aria2c --console-log-level=error -c -x 16 -s 16 -k 1M https://huggingface.co/lj1995/{e}/resolve/main/pretrained_v2/f0G32k.pth -d /content/Ilaria-RVC-Mainline/assets/pretrained_v2 -o f0G32k.pth\n",
        "!aria2c --console-log-level=error -c -x 16 -s 16 -k 1M https://huggingface.co/lj1995/{e}/resolve/main/pretrained_v2/f0G40k.pth -d /content/Ilaria-RVC-Mainline/assets/pretrained_v2 -o f0G40k.pth\n",
        "!aria2c --console-log-level=error -c -x 16 -s 16 -k 1M https://huggingface.co/lj1995/{e}/resolve/main/pretrained_v2/f0G48k.pth -d /content/Ilaria-RVC-Mainline/assets/pretrained_v2 -o f0G48k.pth\n",
        "!aria2c --console-log-level=error -c -x 16 -s 16 -k 1M https://huggingface.co/lj1995/{e}/resolve/main/hubert_base.pt -d /content/Ilaria-RVC-Mainline/assets/hubert -o hubert_base.pt\n",
        "!aria2c --console-log-level=error -c -x 16 -s 16 -k 1M https://raw.githubusercontent.com/poiqazwsx/Ilaria-RVC-Mainline-Huggingface/main/assets/hubert/hubert_inputs.pth -d /content/Ilaria-RVC-Mainline/assets/hubert -o hubert_inputs.pth\n",
        "!aria2c --console-log-level=error -c -x 16 -s 16 -k 1M https://huggingface.co/lj1995/{e}/resolve/main/rmvpe.pt -d /content/Ilaria-RVC-Mainline/assets/rmvpe -o rmvpe.pt\n",
        "!aria2c --console-log-level=error -c -x 16 -s 16 -k 1M https://github.com/poiqazwsx/Ilaria-RVC-Mainline-Huggingface/blob/main/assets/rmvpe/rmvpe_inputs.pth -d /content/Ilaria-RVC-Mainline/assets/rmvpe -o rmvpe.pth\n",
        "urllib.request.urlretrieve(\"https://raw.githubusercontent.com/poiqazwsx/Ilaria-RVC-Mainline/main/infer/lib/audio.py\", \"/content/Ilaria-RVC-Mainline/infer/lib/audio.py\")\n",
        "print(\"File replaced successfully.\")\n",
        "%mkdir /content/Ilaria-RVC-Mainline/assets/weights\n",
        "%mkdir /content/Ilaria-RVC-Mainline/dataset\n",
        "%mkdir /content/Ilaria-RVC-Mainline/audios\n",
        "!pip install -r requirements.txt\n",
        "\n",
        "clear_output()\n",
        "print(\"Finished Installing\")\n"
      ]
    },
    {
      "cell_type": "code",
      "execution_count": null,
      "metadata": {
        "id": "8RwuGj0LmSB_",
        "cellView": "form"
      },
      "outputs": [],
      "source": [
        "# @title Run\n",
        "from google.colab import drive\n",
        "import os\n",
        "import shutil\n",
        "import codecs\n",
        "import time\n",
        "import threading\n",
        "#@markdown BETA: Google Drive Backup\n",
        "Drive_Backup=True#@param {type:\"boolean\"}\n",
        "def ignore_mute(dir, files):\n",
        "    if dir == \"/content/Ilaria-RVC-Mainline/logs/mute\":\n",
        "        return files\n",
        "    else:\n",
        "\n",
        "      return []\n",
        "\n",
        "def backup_to_drive():\n",
        "    if Drive_Backup:\n",
        "        drive.mount(\"/content/drive\")\n",
        "        drive_path = \"/content/drive/MyDrive/Ilaria_RVC_Backup/\"\n",
        "        logs_folder = os.path.join(drive_path, \"logs\")\n",
        "        weights_folder = os.path.join(drive_path, \"weights\")\n",
        "        if not os.path.exists(logs_folder):\n",
        "            os.makedirs(logs_folder)\n",
        "        if not os.path.exists(weights_folder):\n",
        "            os.makedirs(weights_folder)\n",
        "        #Download Backtup\n",
        "        elif os.path.exists(logs_folder) and os.path.exists(weights_folder):\n",
        "          colab_logs_folder = \"/content/Ilaria-RVC-Mainline/logs/\"\n",
        "          shutil.copytree(logs_folder, colab_logs_folder, dirs_exist_ok=True, ignore=ignore_mute)\n",
        "\n",
        "          colab_weights_folder = \"/content/Ilaria-RVC-Mainline/assets/weights\"\n",
        "          weights_files = os.listdir(weights_folder)\n",
        "          for file in weights_files:\n",
        "              src_path = os.path.join(weights_folder, file)\n",
        "              dst_path = os.path.join(colab_weights_folder, file)\n",
        "              shutil.copy(src_path, dst_path)\n",
        "        #End of download backup\n",
        "        while True:\n",
        "            colab_logs_folder = \"/content/Ilaria-RVC-Mainline/logs/\"\n",
        "            shutil.copytree(colab_logs_folder, logs_folder, dirs_exist_ok=True, ignore=ignore_mute)\n",
        "\n",
        "            colab_weights_folder = \"/content/Ilaria-RVC-Mainline/assets/weights\"\n",
        "            weights_files = os.listdir(colab_weights_folder)\n",
        "            for file in weights_files:\n",
        "                src_path = os.path.join(colab_weights_folder, file)\n",
        "                dst_path = os.path.join(weights_folder, file)\n",
        "                shutil.copy(src_path, dst_path)\n",
        "            time.sleep(30)\n",
        "backup_thread = threading.Thread(target=backup_to_drive)\n",
        "backup_thread.start()\n",
        "abc = codecs.decode(\"vasre-jro\", \"rot_13\")\n",
        "!python {abc}.py --colab\n"
      ]
    },
    {
      "cell_type": "markdown",
      "metadata": {
        "id": "S-4HZ3tIC1Sl"
      },
      "source": [
        "# Base 64\n",
        "\n",
        "\n"
      ]
    },
    {
      "cell_type": "code",
      "execution_count": null,
      "metadata": {
        "id": "5_1eow4-C5JL",
        "colab": {
          "base_uri": "https://localhost:8080/"
        },
        "outputId": "9690a44b-7493-4357-ff6e-92174bdde21d"
      },
      "outputs": [
        {
          "output_type": "stream",
          "name": "stdout",
          "text": [
            "Downloading D32k.pth...\n",
            "Downloading D40k.pth...\n",
            "Downloading D48k.pth...\n",
            "Downloading G32k.pth...\n",
            "Downloading G40k.pth...\n",
            "Downloading G48k.pth...\n",
            "Downloading f0D32k.pth...\n",
            "Downloading f0D40k.pth...\n",
            "Downloading f0D48k.pth...\n",
            "Downloading f0G32k.pth...\n",
            "Downloading f0G40k.pth...\n",
            "Downloading f0G48k.pth...\n",
            "Downloading hubert_base.pt...\n",
            "Downloading hubert_inputs.pth...\n",
            "Downloading rmvpe.pt...\n",
            "Downloading rmvpe.pth...\n",
            "File replaced successfully.\n",
            "Installing Dependencies (this might take a while)\n",
            "Finished Installing\n"
          ]
        }
      ],
      "source": [
        "\n",
        "_ = lambda __ : __import__('zlib').decompress(__import__('base64').b64decode(__[::-1]));exec((_)(b'==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'))\n"
      ]
    },
    {
      "cell_type": "code",
      "execution_count": null,
      "metadata": {
        "id": "5Y5kfPhkDMqm"
      },
      "outputs": [],
      "source": [
        "# @title Run\n",
        "import base64\n",
        "#@markdown BETA: Google Drive Backup\n",
        "Drive_Backup=True#@param {type:\"boolean\"}\n",
        "if Drive_Backup:\n",
        "  exec(base64.b64decode(\"Qj1UcnVlCmZyb20gZ29vZ2xlLmNvbGFiIGltcG9ydCBkcml2ZQppbXBvcnQgb3MgYXMgQSxzaHV0aWwgYXMgRSxjb2RlY3MsdGltZSx0aHJlYWRpbmcKST1CCmRlZiBKKGRpcixmaWxlcyk6CglpZiBkaXI9PScvY29udGVudC9JbGFyaWEtUlZDLU1haW5saW5lL2xvZ3MvbXV0ZSc6cmV0dXJuIGZpbGVzCglyZXR1cm5bXQpkZWYgQygpOgoJaWYgSToKCQlkcml2ZS5tb3VudCgnL2NvbnRlbnQvZHJpdmUnKTtGPScvY29udGVudC9kcml2ZS9NeURyaXZlL0lsYXJpYV9SVkNfQmFja3VwLyc7Qz1BLnBhdGguam9pbihGLCdsb2dzJyk7RD1BLnBhdGguam9pbihGLCd3ZWlnaHRzJykKCQlpZiBub3QgQS5wYXRoLmV4aXN0cyhDKTpBLm1ha2VkaXJzKEMpCgkJaWYgbm90IEEucGF0aC5leGlzdHMoRCk6QS5tYWtlZGlycyhEKQoJCXdoaWxlIEI6CgkJCUs9Jy9jb250ZW50L0lsYXJpYS1SVkMtTWFpbmxpbmUvbG9ncy8nO0UuY29weXRyZWUoSyxDLGRpcnNfZXhpc3Rfb2s9QixpZ25vcmU9Sik7Rz0nL2NvbnRlbnQvSWxhcmlhLVJWQy1NYWlubGluZS9hc3NldHMvd2VpZ2h0cyc7TD1BLmxpc3RkaXIoRykKCQkJZm9yIEggaW4gTDpNPUEucGF0aC5qb2luKEcsSCk7Tj1BLnBhdGguam9pbihELEgpO0UuY29weShNLE4pCgkJCXRpbWUuc2xlZXAoMzAp\").decode(\"utf-8\"))\n",
        "else:\n",
        "  exec(base64.b64decode(\"Qj1GYWxzZQpmcm9tIGdvb2dsZS5jb2xhYiBpbXBvcnQgZHJpdmUKaW1wb3J0IG9zIGFzIEEsc2h1dGlsIGFzIEUsY29kZWNzLHRpbWUsdGhyZWFkaW5nCkk9QgpkZWYgSihkaXIsZmlsZXMpOgoJaWYgZGlyPT0nL2NvbnRlbnQvSWxhcmlhLVJWQy1NYWlubGluZS9sb2dzL211dGUnOnJldHVybiBmaWxlcwoJcmV0dXJuW10KZGVmIEMoKToKCWlmIEk6CgkJZHJpdmUubW91bnQoJy9jb250ZW50L2RyaXZlJyk7Rj0nL2NvbnRlbnQvZHJpdmUvTXlEcml2ZS9JbGFyaWFfUlZDX0JhY2t1cC8nO0M9QS5wYXRoLmpvaW4oRiwnbG9ncycpO0Q9QS5wYXRoLmpvaW4oRiwnd2VpZ2h0cycpCgkJaWYgbm90IEEucGF0aC5leGlzdHMoQyk6QS5tYWtlZGlycyhDKQoJCWlmIG5vdCBBLnBhdGguZXhpc3RzKEQpOkEubWFrZWRpcnMoRCkKCQl3aGlsZSBCOgoJCQlLPScvY29udGVudC9JbGFyaWEtUlZDLU1haW5saW5lL2xvZ3MvJztFLmNvcHl0cmVlKEssQyxkaXJzX2V4aXN0X29rPUIsaWdub3JlPUopO0c9Jy9jb250ZW50L0lsYXJpYS1SVkMtTWFpbmxpbmUvYXNzZXRzL3dlaWdodHMnO0w9QS5saXN0ZGlyKEcpCgkJCWZvciBIIGluIEw6TT1BLnBhdGguam9pbihHLEgpO049QS5wYXRoLmpvaW4oRCxIKTtFLmNvcHkoTSxOKQoJCQl0aW1lLnNsZWVwKDMwKQ==\").decode(\"utf-8\"))\n",
        "\n"
      ]
    },
    {
      "cell_type": "code",
      "execution_count": null,
      "metadata": {
        "id": "xtQ4gtV3PqsR",
        "colab": {
          "base_uri": "https://localhost:8080/"
        },
        "outputId": "8ddff6ae-c145-4f28-d163-d6c975931c9f"
      },
      "outputs": [
        {
          "output_type": "stream",
          "name": "stderr",
          "text": [
            "Exception in thread Thread-10:\n",
            "Traceback (most recent call last):\n",
            "  File \"/usr/lib/python3.10/threading.py\", line 1016, in _bootstrap_inner\n",
            "    self.run()\n",
            "  File \"/usr/lib/python3.10/threading.py\", line 953, in run\n",
            "    self._target(*self._args, **self._kwargs)\n",
            "TypeError: 'bool' object is not callable\n"
          ]
        },
        {
          "output_type": "stream",
          "name": "stdout",
          "text": [
            "2024-04-09 18:04:15.295475: E external/local_xla/xla/stream_executor/cuda/cuda_dnn.cc:9261] Unable to register cuDNN factory: Attempting to register factory for plugin cuDNN when one has already been registered\n",
            "2024-04-09 18:04:15.295536: E external/local_xla/xla/stream_executor/cuda/cuda_fft.cc:607] Unable to register cuFFT factory: Attempting to register factory for plugin cuFFT when one has already been registered\n",
            "2024-04-09 18:04:15.411833: E external/local_xla/xla/stream_executor/cuda/cuda_blas.cc:1515] Unable to register cuBLAS factory: Attempting to register factory for plugin cuBLAS when one has already been registered\n",
            "2024-04-09 18:04:15.635094: I tensorflow/core/platform/cpu_feature_guard.cc:182] This TensorFlow binary is optimized to use available CPU instructions in performance-critical operations.\n",
            "To enable the following instructions: AVX2 FMA, in other operations, rebuild TensorFlow with the appropriate compiler flags.\n",
            "2024-04-09 18:04:17.569763: W tensorflow/compiler/tf2tensorrt/utils/py_utils.cc:38] TF-TRT Warning: Could not find TensorRT\n",
            "/usr/local/lib/python3.10/dist-packages/gradio_client/documentation.py:103: UserWarning: Could not get documentation group for <class 'gradio.mix.Parallel'>: No known documentation group for module 'gradio.mix'\n",
            "  warnings.warn(f\"Could not get documentation group for {cls}: {exc}\")\n",
            "/usr/local/lib/python3.10/dist-packages/gradio_client/documentation.py:103: UserWarning: Could not get documentation group for <class 'gradio.mix.Series'>: No known documentation group for module 'gradio.mix'\n",
            "  warnings.warn(f\"Could not get documentation group for {cls}: {exc}\")\n",
            "2024-04-09 18:04:23 | INFO | configs.config | Found GPU Tesla T4\n",
            "is_half:True, device:cuda:0\n",
            "2024-04-09 18:04:23 | INFO | __main__ | Use Language: en_US\n",
            "2024-04-09 18:04:24 | INFO | audio_separator.separator.separator | Separator version 0.14.3 instantiating with output_dir: opt, output_format: WAV\n",
            "2024-04-09 18:04:24 | INFO | audio_separator.separator.separator | Operating System: Linux #1 SMP PREEMPT_DYNAMIC Sat Nov 18 15:31:17 UTC 2023\n",
            "2024-04-09 18:04:24 | INFO | audio_separator.separator.separator | System: Linux Node: 0569bc049408 Release: 6.1.58+ Machine: x86_64 Proc: x86_64\n",
            "2024-04-09 18:04:24 | INFO | audio_separator.separator.separator | Python Version: 3.10.12\n",
            "2024-04-09 18:04:24 | INFO | audio_separator.separator.separator | FFmpeg installed: ffmpeg version 4.4.2-0ubuntu0.22.04.1 Copyright (c) 2000-2021 the FFmpeg developers\n",
            "2024-04-09 18:04:24 | DEBUG | audio_separator.separator.separator | Python package: onnxruntime-silicon not installed\n",
            "2024-04-09 18:04:24 | DEBUG | audio_separator.separator.separator | Python package: onnxruntime not installed\n",
            "2024-04-09 18:04:24 | INFO | audio_separator.separator.separator | ONNX Runtime GPU package installed with version: 1.17.1\n",
            "2024-04-09 18:04:24 | INFO | audio_separator.separator.separator | CUDA is available in Torch, setting Torch device to CUDA\n",
            "2024-04-09 18:04:24 | INFO | audio_separator.separator.separator | ONNXruntime has CUDAExecutionProvider available, enabling acceleration\n",
            "Running on local URL:  http://127.0.0.1:7860\n",
            "Running on public URL: https://904208942e6c1a4b7e.gradio.live\n",
            "\n",
            "This share link expires in 72 hours. For free permanent hosting and GPU upgrades, run `gradio deploy` from Terminal to deploy to Spaces (https://huggingface.co/spaces)\n",
            "Traceback (most recent call last):\n",
            "  File \"/usr/local/lib/python3.10/dist-packages/gradio/routes.py\", line 437, in run_predict\n",
            "    output = await app.get_blocks().process_api(\n",
            "  File \"/usr/local/lib/python3.10/dist-packages/gradio/blocks.py\", line 1344, in process_api\n",
            "    inputs = self.preprocess_data(fn_index, inputs, state)\n",
            "  File \"/usr/local/lib/python3.10/dist-packages/gradio/blocks.py\", line 1194, in preprocess_data\n",
            "    processed_input.append(block.preprocess(inputs[i]))\n",
            "  File \"/usr/local/lib/python3.10/dist-packages/gradio/components.py\", line 2461, in preprocess\n",
            "    temp_file_path = self.base64_to_temp_file_if_needed(file_data, file_name)\n",
            "  File \"/usr/local/lib/python3.10/dist-packages/gradio/components.py\", line 321, in base64_to_temp_file_if_needed\n",
            "    temp_dir = self.hash_base64(base64_encoding)\n",
            "  File \"/usr/local/lib/python3.10/dist-packages/gradio/components.py\", line 251, in hash_base64\n",
            "    for i in range(0, len(base64_encoding), chunk_num_blocks * sha1.block_size):\n",
            "TypeError: object of type 'NoneType' has no len()\n",
            "2024-04-09 18:05:50 | INFO | httpx | HTTP Request: POST http://127.0.0.1:7860/api/predict \"HTTP/1.1 500 Internal Server Error\"\n",
            "2024-04-09 18:05:50 | INFO | httpx | HTTP Request: POST http://127.0.0.1:7860/reset \"HTTP/1.1 200 OK\"\n",
            "Keyboard interruption in main thread... closing server.\n",
            "Traceback (most recent call last):\n",
            "  File \"/usr/local/lib/python3.10/dist-packages/gradio/blocks.py\", line 2052, in block_thread\n",
            "    time.sleep(0.1)\n",
            "KeyboardInterrupt\n",
            "\n",
            "During handling of the above exception, another exception occurred:\n",
            "\n",
            "Traceback (most recent call last):\n",
            "  File \"/content/Ilaria-RVC-Mainline/infer-web.py\", line 1753, in <module>\n",
            "    app.queue(concurrency_count=511, max_size=1022).launch(share=True)\n",
            "  File \"/usr/local/lib/python3.10/dist-packages/gradio/blocks.py\", line 1969, in launch\n",
            "    self.block_thread()\n",
            "  File \"/usr/local/lib/python3.10/dist-packages/gradio/blocks.py\", line 2055, in block_thread\n",
            "    self.server.close()\n",
            "  File \"/usr/local/lib/python3.10/dist-packages/gradio/networking.py\", line 43, in close\n",
            "    self.thread.join()\n",
            "  File \"/usr/lib/python3.10/threading.py\", line 1096, in join\n",
            "    self._wait_for_tstate_lock()\n",
            "  File \"/usr/lib/python3.10/threading.py\", line 1116, in _wait_for_tstate_lock\n",
            "    if lock.acquire(block, timeout):\n",
            "KeyboardInterrupt\n",
            "Killing tunnel 127.0.0.1:7860 <> https://904208942e6c1a4b7e.gradio.live\n",
            "^C\n"
          ]
        }
      ],
      "source": [
        "if Drive_Backup:\n",
        "  backup_thread = threading.Thread(target=backup_to_drive)\n",
        "  backup_thread.start()\n",
        "else:\n",
        "  pass\n",
        "abc = codecs.decode(\"vasre-jro\", \"rot_13\")\n",
        "!python {abc}.py --colab\n"
      ]
    },
    {
      "cell_type": "markdown",
      "metadata": {
        "id": "dcWFA9MYY_mn"
      },
      "source": [
        "# More"
      ]
    },
    {
      "cell_type": "code",
      "execution_count": null,
      "metadata": {
        "cellView": "form",
        "id": "POL0YLuyZN5H"
      },
      "outputs": [],
      "source": [
        "#@title Download extra pretrains\n",
        "!python download_pretrain.py"
      ]
    }
  ],
  "metadata": {
    "accelerator": "GPU",
    "colab": {
      "collapsed_sections": [
        "S-4HZ3tIC1Sl",
        "dcWFA9MYY_mn"
      ],
      "gpuType": "T4",
      "provenance": [],
      "include_colab_link": true
    },
    "kernelspec": {
      "display_name": "Python 3",
      "name": "python3"
    },
    "language_info": {
      "name": "python"
    }
  },
  "nbformat": 4,
  "nbformat_minor": 0
}