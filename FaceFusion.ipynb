{
  "nbformat": 4,
  "nbformat_minor": 0,
  "metadata": {
    "colab": {
      "provenance": [],
      "gpuType": "T4",
      "include_colab_link": true
    },
    "kernelspec": {
      "name": "python3",
      "display_name": "Python 3"
    },
    "language_info": {
      "name": "python"
    },
    "accelerator": "GPU"
  },
  "cells": [
    {
      "cell_type": "markdown",
      "metadata": {
        "id": "view-in-github",
        "colab_type": "text"
      },
      "source": [
        "<a href=\"https://colab.research.google.com/github/qsardor/GoogleColabProjects/blob/main/FaceFusion.ipynb\" target=\"_parent\"><img src=\"https://colab.research.google.com/assets/colab-badge.svg\" alt=\"Open In Colab\"/></a>"
      ]
    },
    {
      "cell_type": "code",
      "source": [
        "#@title **Step 1: Install Dependencies**\n",
        "import os\n",
        "\n",
        "# Set CUDA paths FIRST (before any installations)\n",
        "os.environ[\"CUDA_PATH\"] = \"/usr/local/cuda\"\n",
        "os.environ[\"LD_LIBRARY_PATH\"] = \"/usr/local/cuda/lib64:/usr/lib/x86_64-linux-gnu\"\n",
        "os.environ[\"PATH\"] += \":/usr/local/cuda/bin\"\n",
        "\n",
        "# Clone repository\n",
        "!git clone -q https://github.com/qsardor/Deepfake roop > /dev/null 2>&1\n",
        "%cd roop\n",
        "\n",
        "# Fix dependency conflicts\n",
        "!sed -i 's/numba==0.61.0/numba==0.59.1/g' requirements.txt  # Resolve cuDF/cuML conflict [[4]]\n",
        "!sed -i 's/protobuf==4.23.4/protobuf==4.25.2/g' requirements.txt  # Align with TensorFlow [[4]]\n",
        "\n",
        "# Install dependencies\n",
        "!pip install --quiet --no-warn-conflicts --extra-index-url https://download.pytorch.org/whl/cu118 -r requirements.txt --force-reinstall > /dev/null 2>&1\n",
        "\n",
        "# Cleanup conflicting manual CUDA installations\n",
        "!apt-get remove --purge -y cuda-11-8 libcudnn8 libcudnn8-dev > /dev/null 2>&1  # Remove manual CUDA [[3]]\n",
        "\n",
        "print(\"Installation done. Please restart the runtime (Runtime > Restart Runtime) and proceed to job steps.\")"
      ],
      "metadata": {
        "id": "ge0XH7mL8x5G",
        "cellView": "form"
      },
      "execution_count": null,
      "outputs": []
    },
    {
      "cell_type": "code",
      "source": [
        "#@title **Run Job (Google Drive)**\n",
        "import os\n",
        "from google.colab import drive, files\n",
        "from IPython.display import display, Image\n",
        "\n",
        "# Mount Google Drive\n",
        "drive.mount('/content/drive', force_remount=True)\n",
        "\n",
        "# Define paths\n",
        "DRIVE_DIR = \"/content/drive/MyDrive/Deepfake\"\n",
        "INPUT_DIR = os.path.join(DRIVE_DIR, \"input\")\n",
        "OUTPUT_DIR = os.path.join(DRIVE_DIR, \"output\")\n",
        "os.makedirs(INPUT_DIR, exist_ok=True)\n",
        "os.makedirs(OUTPUT_DIR, exist_ok=True)\n",
        "\n",
        "# Check/Upload files\n",
        "source_path = os.path.join(INPUT_DIR, \"source.png\")\n",
        "target_files = [f for f in os.listdir(INPUT_DIR) if f.startswith(\"target.\")]\n",
        "\n",
        "if not os.path.exists(source_path):\n",
        "    print(\"Uploading source.png...\")\n",
        "    files.upload()\n",
        "if not target_files:\n",
        "    print(\"Uploading target file (image/video)...\")\n",
        "    files.upload()\n",
        "    target_files = [f for f in os.listdir(INPUT_DIR) if f.startswith(\"target.\")]\n",
        "\n",
        "# Detect target type\n",
        "target_file = os.path.join(INPUT_DIR, target_files[0])\n",
        "output_ext = \"png\" if target_file.endswith(\".png\") else \"mp4\"\n",
        "output_path = os.path.join(OUTPUT_DIR, f\"result.{output_ext}\")\n",
        "\n",
        "# Set CUDA environment variables\n",
        "os.environ[\"CUDA_PATH\"] = \"/usr/local/cuda\"\n",
        "os.environ[\"LD_LIBRARY_PATH\"] = \"/usr/local/cuda/lib64:/usr/lib/x86_64-linux-gnu\"\n",
        "os.environ[\"PATH\"] += \":/usr/local/cuda/bin\"\n",
        "\n",
        "# Run processing\n",
        "%cd /content/roop\n",
        "!python run.py -s \"{source_path}\" -t \"{target_file}\" -o \"{output_path}\" --frame-processor face_swapper face_enhancer --keep-frames --keep-fps\n",
        "\n",
        "# Show result\n",
        "if os.path.exists(output_path):\n",
        "    if output_ext == \"png\":\n",
        "        display(Image(output_path))\n",
        "    else:\n",
        "        print(f\"Video saved to {output_path}\")\n",
        "    print(f\"Result saved to: {output_path}\")\n",
        "else:\n",
        "    print(\"Processing failed. Check input files and GPU runtime.\")"
      ],
      "metadata": {
        "id": "32XN4C0CMwpZ",
        "cellView": "form"
      },
      "execution_count": null,
      "outputs": []
    },
    {
      "cell_type": "code",
      "source": [
        "#@title **Step 2: Run Job (Google Drive)**\n",
        "import os\n",
        "from google.colab import drive\n",
        "from IPython.display import display, Image\n",
        "\n",
        "# Set CUDA paths AGAIN after restart\n",
        "os.environ[\"CUDA_PATH\"] = \"/usr/local/cuda\"\n",
        "os.environ[\"LD_LIBRARY_PATH\"] = \"/usr/local/cuda/lib64:/usr/lib/x86_64-linux-gnu\"\n",
        "os.environ[\"PATH\"] += \":/usr/local/cuda/bin\"\n",
        "\n",
        "# Mount Google Drive\n",
        "drive.mount('/content/drive', force_remount=True)\n",
        "\n",
        "# Define paths\n",
        "DRIVE_DIR = \"/content/drive/MyDrive/Deepfake\"\n",
        "INPUT_DIR = os.path.join(DRIVE_DIR, \"input\")\n",
        "OUTPUT_DIR = os.path.join(DRIVE_DIR, \"output\")\n",
        "os.makedirs(INPUT_DIR, exist_ok=True)\n",
        "os.makedirs(OUTPUT_DIR, exist_ok=True)\n",
        "\n",
        "# Check files\n",
        "if not os.path.exists(os.path.join(INPUT_DIR, \"source.png\")):\n",
        "    raise FileNotFoundError(\"Missing source.png in Google Drive input folder\")\n",
        "if not os.path.exists(os.path.join(INPUT_DIR, \"target.mp4\")):\n",
        "    raise FileNotFoundError(\"Missing target.mp4 in Google Drive input folder\")\n",
        "\n",
        "# Run processing\n",
        "%cd /content/roop\n",
        "!python run.py -s \"{os.path.join(INPUT_DIR, 'source.png')}\" \\\n",
        "               -t \"{os.path.join(INPUT_DIR, 'target.mp4')}\" \\\n",
        "               -o \"{os.path.join(OUTPUT_DIR, 'result.mp4')}\" \\\n",
        "               --frame-processor face_swapper face_enhancer \\\n",
        "               --keep-frames --keep-fps\n",
        "\n",
        "# Show result\n",
        "if os.path.exists(os.path.join(OUTPUT_DIR, \"result.mp4\")):\n",
        "    print(f\"Video saved to: {OUTPUT_DIR}/result.mp4\")\n",
        "else:\n",
        "    print(\"Processing failed. Check CUDA configuration.\")"
      ],
      "metadata": {
        "id": "0DywLG5nmF4A",
        "cellView": "form"
      },
      "execution_count": null,
      "outputs": []
    }
  ]
}