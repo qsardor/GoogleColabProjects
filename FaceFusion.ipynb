{
  "nbformat": 4,
  "nbformat_minor": 0,
  "metadata": {
    "colab": {
      "provenance": [],
      "gpuType": "T4",
      "mount_file_id": "1Ne0WaMrG-KI-bqDABCZp6649e3X2_fFQ",
      "authorship_tag": "ABX9TyNPkAIP86UT4Jrl7vHsBxMO",
      "include_colab_link": true
    },
    "kernelspec": {
      "name": "python3",
      "display_name": "Python 3"
    },
    "language_info": {
      "name": "python"
    },
    "accelerator": "GPU"
  },
  "cells": [
    {
      "cell_type": "markdown",
      "metadata": {
        "id": "view-in-github",
        "colab_type": "text"
      },
      "source": [
        "<a href=\"https://colab.research.google.com/github/qsardor/GoogleColabProjects/blob/main/FaceFusion.ipynb\" target=\"_parent\"><img src=\"https://colab.research.google.com/assets/colab-badge.svg\" alt=\"Open In Colab\"/></a>"
      ]
    },
    {
      "cell_type": "code",
      "source": [
        "#@title **Install Dependencies**\n",
        "# Clone repository\n",
        "!git clone -q https://github.com/splendormagic/Bahaa-Ai-DeepFake roop\n",
        "%cd roop\n",
        "\n",
        "# Fix dependencies\n",
        "!sed -i 's/numpy==1.24.3/numpy==1.26.4/g' requirements.txt\n",
        "!sed -i 's/tensorflow==2.14.0/tensorflow==2.16.1/g' requirements.txt\n",
        "\n",
        "# Install dependencies\n",
        "!pip install --quiet --extra-index-url https://download.pytorch.org/whl/cu118 -r requirements.txt --force-reinstall\n",
        "\n",
        "# Set CUDA environment variables\n",
        "import os\n",
        "os.environ[\"CUDA_PATH\"] = \"/usr/local/cuda\"\n",
        "os.environ[\"PATH\"] += \":/usr/local/cuda/bin\"\n",
        "os.environ[\"LD_LIBRARY_PATH\"] = \"/usr/local/cuda/lib64\""
      ],
      "metadata": {
        "id": "ge0XH7mL8x5G"
      },
      "execution_count": null,
      "outputs": []
    },
    {
      "cell_type": "code",
      "source": [
        "#@title **Run Job (Google Drive Integration)**\n",
        "import os\n",
        "from google.colab import drive\n",
        "\n",
        "# Mount Google Drive\n",
        "drive.mount('/content/drive', force_remount=True)\n",
        "\n",
        "# Configure paths\n",
        "DRIVE_DIR = \"/content/drive/MyDrive/Deepfake\"\n",
        "INPUT_DIR = os.path.join(DRIVE_DIR, \"input\")\n",
        "OUTPUT_DIR = os.path.join(DRIVE_DIR, \"output\")\n",
        "SOURCE_IMG = os.path.join(INPUT_DIR, \"source.png\")\n",
        "TARGET_IMG = os.path.join(INPUT_DIR, \"target.png\")\n",
        "RESULT_IMG = os.path.join(OUTPUT_DIR, \"result.png\")\n",
        "\n",
        "# Create directories\n",
        "os.makedirs(INPUT_DIR, exist_ok=True)\n",
        "os.makedirs(OUTPUT_DIR, exist_ok=True)\n",
        "\n",
        "# Validate input files\n",
        "if not (os.path.exists(SOURCE_IMG) and os.path.exists(TARGET_IMG)):\n",
        "    raise FileNotFoundError(f\"Missing source.png or target.png in {INPUT_DIR}\")\n",
        "\n",
        "# Run processing\n",
        "%cd /content/roop\n",
        "!python run.py --source {SOURCE_IMG} --target {TARGET_IMG} --output {RESULT_IMG} --execution-provider cuda --frame-processor face_swapper\n",
        "\n",
        "print(f\"Result saved to: {RESULT_IMG}\")"
      ],
      "metadata": {
        "colab": {
          "base_uri": "https://localhost:8080/"
        },
        "id": "32XN4C0CMwpZ",
        "outputId": "c316d476-2f4f-4d01-b6b6-671a248d8d7d"
      },
      "execution_count": null,
      "outputs": [
        {
          "output_type": "stream",
          "name": "stdout",
          "text": [
            "2025-03-23 13:31:03.044893: E external/local_xla/xla/stream_executor/cuda/cuda_fft.cc:477] Unable to register cuFFT factory: Attempting to register factory for plugin cuFFT when one has already been registered\n",
            "WARNING: All log messages before absl::InitializeLog() is called are written to STDERR\n",
            "E0000 00:00:1742736663.064432    5204 cuda_dnn.cc:8310] Unable to register cuDNN factory: Attempting to register factory for plugin cuDNN when one has already been registered\n",
            "E0000 00:00:1742736663.070693    5204 cuda_blas.cc:1418] Unable to register cuBLAS factory: Attempting to register factory for plugin cuBLAS when one has already been registered\n",
            "usage: run.py [-h] [-s SOURCE_PATH] [-t TARGET_PATH] [-o OUTPUT_PATH]\n",
            "              [--frame-processor FRAME_PROCESSOR [FRAME_PROCESSOR ...]] [--keep-fps]\n",
            "              [--keep-frames] [--skip-audio] [--many-faces]\n",
            "              [--reference-face-position REFERENCE_FACE_POSITION]\n",
            "              [--reference-frame-number REFERENCE_FRAME_NUMBER]\n",
            "              [--similar-face-distance SIMILAR_FACE_DISTANCE] [--temp-frame-format {jpg,png}]\n",
            "              [--temp-frame-quality [0-100]]\n",
            "              [--output-video-encoder {libx264,libx265,libvpx-vp9,h264_nvenc,hevc_nvenc}]\n",
            "              [--output-video-quality [0-100]] [--max-memory MAX_MEMORY]\n",
            "              [--execution-provider {tensorrt,cuda,cpu} [{tensorrt,cuda,cpu} ...]]\n",
            "              [--execution-threads EXECUTION_THREADS] [-v]\n",
            "run.py: error: unrecognized arguments: --face-enhancer-model gfpgan_1.4 --face-enhancer-blend 100 --output-image-quality 100\n"
          ]
        }
      ]
    },
    {
      "cell_type": "code",
      "source": [
        "#@title **Run Job (Local Files)**\n",
        "import os\n",
        "\n",
        "# Check local files\n",
        "if not (os.path.exists(\"source.png\") and os.path.exists(\"target.png\")):\n",
        "    raise FileNotFoundError(\"Upload source.png and target.png to Colab\")\n",
        "\n",
        "# Run processing\n",
        "%cd /content/roop\n",
        "!python run.py --source source.png --target target.png --output result.png --execution-provider cuda --frame-processor face_swapper\n",
        "\n",
        "print(\"Result saved to: /content/roop/result.png\")"
      ],
      "metadata": {
        "id": "0DywLG5nmF4A"
      },
      "execution_count": null,
      "outputs": []
    }
  ]
}