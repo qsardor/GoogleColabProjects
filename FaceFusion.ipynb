{
  "nbformat": 4,
  "nbformat_minor": 0,
  "metadata": {
    "colab": {
      "provenance": [],
      "gpuType": "T4",
      "include_colab_link": true
    },
    "kernelspec": {
      "name": "python3",
      "display_name": "Python 3"
    },
    "language_info": {
      "name": "python"
    },
    "accelerator": "GPU"
  },
  "cells": [
    {
      "cell_type": "markdown",
      "metadata": {
        "id": "view-in-github",
        "colab_type": "text"
      },
      "source": [
        "<a href=\"https://colab.research.google.com/github/qsardor/GoogleColabProjects/blob/main/FaceFusion.ipynb\" target=\"_parent\"><img src=\"https://colab.research.google.com/assets/colab-badge.svg\" alt=\"Open In Colab\"/></a>"
      ]
    },
    {
      "cell_type": "code",
      "source": [
        "#@title **Install Dependencies**\n",
        "import os\n",
        "\n",
        "# Clone repository\n",
        "!git clone -q https://github.com/qsardor/Deepfake roop > /dev/null 2>&1\n",
        "%cd roop\n",
        "\n",
        "# Set CUDA paths (mandatory for GPU detection)\n",
        "os.environ[\"CUDA_PATH\"] = \"/usr/local/cuda\"\n",
        "os.environ[\"LD_LIBRARY_PATH\"] = \"/usr/local/cuda/lib64:/usr/lib/x86_64-linux-gnu\"\n",
        "os.environ[\"PATH\"] += \":/usr/local/cuda/bin\"\n",
        "\n",
        "# Install dependencies quietly\n",
        "!pip install --quiet --no-warn-conflicts -r requirements.txt --force-reinstall > /dev/null 2>&1\n",
        "\n",
        "print(\"Installation done\")"
      ],
      "metadata": {
        "id": "ge0XH7mL8x5G",
        "cellView": "form"
      },
      "execution_count": null,
      "outputs": []
    },
    {
      "cell_type": "code",
      "source": [
        "#@title **Run Job (Google Drive)**\n",
        "import os\n",
        "from google.colab import drive, files\n",
        "from IPython.display import display, Image\n",
        "\n",
        "# Mount Google Drive\n",
        "drive.mount('/content/drive', force_remount=True)\n",
        "\n",
        "# Define paths\n",
        "DRIVE_DIR = \"/content/drive/MyDrive/Deepfake\"\n",
        "INPUT_DIR = os.path.join(DRIVE_DIR, \"input\")\n",
        "OUTPUT_DIR = os.path.join(DRIVE_DIR, \"output\")\n",
        "os.makedirs(INPUT_DIR, exist_ok=True)\n",
        "os.makedirs(OUTPUT_DIR, exist_ok=True)\n",
        "\n",
        "# Check/Upload files\n",
        "source_path = os.path.join(INPUT_DIR, \"source.png\")\n",
        "target_files = [f for f in os.listdir(INPUT_DIR) if f.startswith(\"target.\")]\n",
        "\n",
        "if not os.path.exists(source_path):\n",
        "    print(\"Uploading source.png...\")\n",
        "    files.upload()\n",
        "if not target_files:\n",
        "    print(\"Uploading target file (image/video)...\")\n",
        "    files.upload()\n",
        "    target_files = [f for f in os.listdir(INPUT_DIR) if f.startswith(\"target.\")]\n",
        "\n",
        "# Detect target type\n",
        "target_file = os.path.join(INPUT_DIR, target_files[0])\n",
        "output_ext = \"png\" if target_file.endswith(\".png\") else \"mp4\"\n",
        "output_path = os.path.join(OUTPUT_DIR, f\"result.{output_ext}\")\n",
        "\n",
        "# Set CUDA environment variables\n",
        "os.environ[\"CUDA_PATH\"] = \"/usr/local/cuda\"\n",
        "os.environ[\"LD_LIBRARY_PATH\"] = \"/usr/local/cuda/lib64:/usr/lib/x86_64-linux-gnu\"\n",
        "os.environ[\"PATH\"] += \":/usr/local/cuda/bin\"\n",
        "\n",
        "# Run processing\n",
        "%cd /content/roop\n",
        "!python run.py -s \"{source_path}\" -t \"{target_file}\" -o \"{output_path}\" --frame-processor face_swapper face_enhancer --keep-frames --keep-fps\n",
        "\n",
        "# Show result\n",
        "if os.path.exists(output_path):\n",
        "    if output_ext == \"png\":\n",
        "        display(Image(output_path))\n",
        "    else:\n",
        "        print(f\"Video saved to {output_path}\")\n",
        "    print(f\"Result saved to: {output_path}\")\n",
        "else:\n",
        "    print(\"Processing failed. Check input files and GPU runtime.\")"
      ],
      "metadata": {
        "id": "32XN4C0CMwpZ",
        "cellView": "form"
      },
      "execution_count": null,
      "outputs": []
    },
    {
      "cell_type": "code",
      "source": [
        "#@title **Run Job (Local Files)**\n",
        "import os\n",
        "from google.colab import files\n",
        "from IPython.display import display, Image\n",
        "\n",
        "# Set CUDA paths (critical for GPU detection)\n",
        "os.environ[\"CUDA_PATH\"] = \"/usr/local/cuda\"\n",
        "os.environ[\"LD_LIBRARY_PATH\"] = \"/usr/local/cuda/lib64:/usr/lib/x86_64-linux-gnu\"\n",
        "os.environ[\"PATH\"] += \":/usr/local/cuda/bin\"\n",
        "\n",
        "# Check/Upload files\n",
        "if not os.path.exists(\"source.png\"):\n",
        "    print(\"Uploading source.png...\")\n",
        "    files.upload()\n",
        "if not os.path.exists(\"target.png\") and not os.path.exists(\"target.mp4\"):\n",
        "    print(\"Uploading target file...\")\n",
        "    files.upload()\n",
        "\n",
        "# Detect target type\n",
        "target_file = \"target.png\" if os.path.exists(\"target.png\") else \"target.mp4\"\n",
        "output_ext = \"png\" if target_file.endswith(\".png\") else \"mp4\"\n",
        "output_path = f\"result.{output_ext}\"\n",
        "\n",
        "# Run with explicit GPU provider\n",
        "%cd /content/roop\n",
        "!python run.py -s \"source.png\" -t \"{target_file}\" -o \"{output_path}\" --frame-processor face_swapper face_enhancer --keep-frames --keep-fps\n",
        "\n",
        "# Show result\n",
        "if os.path.exists(output_path):\n",
        "    display(Image(output_path)) if output_ext == \"png\" else print(f\"Video saved to {output_path}\")\n",
        "    print(f\"Result saved to: /content/roop/{output_path}\")\n",
        "else:\n",
        "    print(\"Processing failed. Check CUDA configuration.\")"
      ],
      "metadata": {
        "id": "0DywLG5nmF4A",
        "cellView": "form"
      },
      "execution_count": null,
      "outputs": []
    }
  ]
}