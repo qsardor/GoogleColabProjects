{
  "nbformat": 4,
  "nbformat_minor": 0,
  "metadata": {
    "colab": {
      "provenance": [],
      "gpuType": "T4",
      "include_colab_link": true
    },
    "kernelspec": {
      "name": "python3",
      "display_name": "Python 3"
    },
    "language_info": {
      "name": "python"
    },
    "accelerator": "GPU"
  },
  "cells": [
    {
      "cell_type": "markdown",
      "metadata": {
        "id": "view-in-github",
        "colab_type": "text"
      },
      "source": [
        "<a href=\"https://colab.research.google.com/github/qsardor/GoogleColabProjects/blob/main/FaceFusion.ipynb\" target=\"_parent\"><img src=\"https://colab.research.google.com/assets/colab-badge.svg\" alt=\"Open In Colab\"/></a>"
      ]
    },
    {
      "cell_type": "code",
      "source": [
        "#@title **Silent Installation**\n",
        "import os\n",
        "\n",
        "# Clone repository quietly\n",
        "!git clone -q https://github.com/splendormagic/Bahaa-Ai-DeepFake roop > /dev/null 2>&1\n",
        "%cd roop\n",
        "\n",
        "# Modify requirements.txt silently\n",
        "!sed -i 's/numpy==1.24.3/numpy==1.26.4/g' requirements.txt > /dev/null 2>&1\n",
        "!sed -i 's/tensorflow==2.14.0/tensorflow==2.16.1/g' requirements.txt > /dev/null 2>&1\n",
        "\n",
        "# Install dependencies quietly\n",
        "!pip install --quiet --no-warn-conflicts --extra-index-url https://download.pytorch.org/whl/cu118 -r requirements.txt --force-reinstall > /dev/null 2>&1\n",
        "\n",
        "# Set CUDA environment variables\n",
        "os.environ[\"CUDA_PATH\"] = \"/usr/local/cuda\"\n",
        "os.environ[\"PATH\"] += \":/usr/local/cuda/bin\"\n",
        "os.environ[\"LD_LIBRARY_PATH\"] = \"/usr/local/cuda/lib64\"\n",
        "\n",
        "print(\"Installation done\")"
      ],
      "metadata": {
        "id": "ge0XH7mL8x5G"
      },
      "execution_count": null,
      "outputs": []
    },
    {
      "cell_type": "code",
      "source": [
        "#@title **Run Job (Google Drive Integration with Result Display)**\n",
        "import os\n",
        "from google.colab import drive\n",
        "from IPython.display import display, Image\n",
        "\n",
        "# Mount Google Drive\n",
        "drive.mount('/content/drive', force_remount=True)\n",
        "\n",
        "# Configure paths\n",
        "DRIVE_DIR = \"/content/drive/MyDrive/Deepfake\"\n",
        "INPUT_DIR = os.path.join(DRIVE_DIR, \"input\")\n",
        "OUTPUT_DIR = os.path.join(DRIVE_DIR, \"output\")\n",
        "SOURCE_IMG = os.path.join(INPUT_DIR, \"source.png\")\n",
        "TARGET_IMG = os.path.join(INPUT_DIR, \"target.png\")\n",
        "RESULT_IMG = os.path.join(OUTPUT_DIR, \"result.png\")\n",
        "\n",
        "# Create directories\n",
        "os.makedirs(INPUT_DIR, exist_ok=True)\n",
        "os.makedirs(OUTPUT_DIR, exist_ok=True)\n",
        "\n",
        "# Validate input files\n",
        "if not (os.path.exists(SOURCE_IMG) and os.path.exists(TARGET_IMG)):\n",
        "    raise FileNotFoundError(f\"Missing source.png or target.png in {INPUT_DIR}\")\n",
        "\n",
        "# Run processing\n",
        "%cd /content/roop\n",
        "!python run.py --source {SOURCE_IMG} --target {TARGET_IMG} --output {RESULT_IMG} --execution-provider cuda --frame-processor face_swapper\n",
        "\n",
        "# Display result\n",
        "print(\"Deepfake Result:\")\n",
        "display(Image(RESULT_IMG))\n",
        "print(f\"Result saved to: {RESULT_IMG}\")"
      ],
      "metadata": {
        "id": "32XN4C0CMwpZ"
      },
      "execution_count": null,
      "outputs": []
    },
    {
      "cell_type": "code",
      "source": [
        "#@title **Run Job (Local Files)**\n",
        "import os\n",
        "from google.colab import files\n",
        "from IPython.display import display, Image\n",
        "\n",
        "# Navigate to project directory\n",
        "%cd /content/roop\n",
        "\n",
        "# Check if files exist, upload if missing\n",
        "if not (os.path.exists(\"source.png\") and os.path.exists(\"target.png\")):\n",
        "    print(\"Uploading source and target images...\")\n",
        "    uploaded = files.upload()\n",
        "    if 'source.png' not in uploaded or 'target.png' not in uploaded:\n",
        "        raise FileNotFoundError(\"Please upload both source.png and target.png\")\n",
        "\n",
        "# Run processing\n",
        "!python run.py --source source.png --target target.png --output result.png --execution-provider cuda --frame-processor face_swapper\n",
        "\n",
        "# Display result\n",
        "print(\"Deepfake Result:\")\n",
        "display(Image(\"result.png\"))\n",
        "print(\"Result saved to: /content/roop/result.png\")"
      ],
      "metadata": {
        "id": "0DywLG5nmF4A"
      },
      "execution_count": null,
      "outputs": []
    }
  ]
}