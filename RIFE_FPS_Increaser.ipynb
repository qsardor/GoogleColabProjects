{
  "cells": [
    {
      "cell_type": "markdown",
      "metadata": {
        "id": "view-in-github",
        "colab_type": "text"
      },
      "source": [
        "<a href=\"https://colab.research.google.com/github/qsardor/GoogleColabProjects/blob/main/RIFE_FPS_Increaser.ipynb\" target=\"_parent\"><img src=\"https://colab.research.google.com/assets/colab-badge.svg\" alt=\"Open In Colab\"/></a>"
      ]
    },
    {
      "cell_type": "markdown",
      "source": [
        "Im too lazy to write the instructions here, please follow from my youtube guide : https://www.youtube.com/watch?v=QUquRBBp3ok"
      ],
      "metadata": {
        "id": "5P58b9yTNhmF"
      }
    },
    {
      "cell_type": "code",
      "source": [
        "from google.colab import drive\n",
        "drive.mount('/content/drive')"
      ],
      "metadata": {
        "id": "V4e3m21-Xua3"
      },
      "execution_count": null,
      "outputs": []
    },
    {
      "cell_type": "code",
      "execution_count": null,
      "metadata": {
        "id": "FypCcZkNNt2p"
      },
      "outputs": [],
      "source": [
        "!git clone https://github.com/hzwer/arXiv2020-RIFE"
      ]
    },
    {
      "cell_type": "markdown",
      "source": [
        "Does not matter if you see some **RED ERRORS** in the next step, just continue if there is a green tick."
      ],
      "metadata": {
        "id": "fFjI566URA5Y"
      }
    },
    {
      "cell_type": "code",
      "source": [
        "! pip install 'numpy<1.24' tqdm>=4.35.0 sk-video>=1.1.10 torch>=1.6.0 opencv-python>=4.1.2 moviepy>=1.0.3 torchvision>=0.7.0"
      ],
      "metadata": {
        "id": "XGCd1TdnmTx9"
      },
      "execution_count": null,
      "outputs": []
    },
    {
      "cell_type": "code",
      "execution_count": null,
      "metadata": {
        "id": "1wysVHxoN54f"
      },
      "outputs": [],
      "source": [
        "!mkdir /content/arXiv2020-RIFE/train_log\n",
        "%cd /content/arXiv2020-RIFE/train_log\n",
        "!gdown --id 1APIzVeI-4ZZCEuIRE1m6WYfSCaOsi_7_\n",
        "!7z e RIFE_trained_model_v3.6.zip"
      ]
    },
    {
      "cell_type": "code",
      "execution_count": null,
      "metadata": {
        "id": "AhbHfRBJRAUt"
      },
      "outputs": [],
      "source": [
        "%cd /content/arXiv2020-RIFE/\n",
        "!pip install scikit-video"
      ]
    },
    {
      "cell_type": "code",
      "execution_count": null,
      "metadata": {
        "id": "dnLn4aHHPzN3"
      },
      "outputs": [],
      "source": [
        "!nvidia-smi\n",
        "!python3 inference_video.py --exp=2 --video=\"/content/drive/MyDrive/Real-ESRGAN/onepiece_demo.mp4\" --fps=120"
      ]
    }
  ],
  "metadata": {
    "accelerator": "GPU",
    "colab": {
      "provenance": [],
      "gpuType": "T4",
      "include_colab_link": true
    },
    "kernelspec": {
      "display_name": "Python 3",
      "name": "python3"
    }
  },
  "nbformat": 4,
  "nbformat_minor": 0
}