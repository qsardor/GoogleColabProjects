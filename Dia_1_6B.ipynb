{
  "nbformat": 4,
  "nbformat_minor": 0,
  "metadata": {
    "colab": {
      "provenance": [],
      "gpuType": "T4",
      "authorship_tag": "ABX9TyOUVWPtDKB8eVRViprd7LS2",
      "include_colab_link": true
    },
    "kernelspec": {
      "name": "python3",
      "display_name": "Python 3"
    },
    "language_info": {
      "name": "python"
    },
    "accelerator": "GPU"
  },
  "cells": [
    {
      "cell_type": "markdown",
      "metadata": {
        "id": "view-in-github",
        "colab_type": "text"
      },
      "source": [
        "<a href=\"https://colab.research.google.com/github/qsardor/GoogleColabProjects/blob/main/Dia_1_6B.ipynb\" target=\"_parent\"><img src=\"https://colab.research.google.com/assets/colab-badge.svg\" alt=\"Open In Colab\"/></a>"
      ]
    },
    {
      "cell_type": "code",
      "execution_count": null,
      "metadata": {
        "cellView": "form",
        "id": "FNe9GQ0gu4Ch"
      },
      "outputs": [],
      "source": [
        "#@title **Launch Dia-1.6B TTS**\n",
        "#@markdown This cell will clone the repository, modify the launch settings for a public URL, install dependencies quietly, and start the Gradio app. Please wait for the installation and launch process to complete. A public URL (like `*.gradio.live`) will appear in the output below.\n",
        "\n",
        "import os\n",
        "import sys\n",
        "\n",
        "print(\"⏳ Cloning repository...\")\n",
        "# Clone quietly\n",
        "!git clone -q https://huggingface.co/spaces/nari-labs/Dia-1.6B app\n",
        "print(\"✅ Repository cloned.\")\n",
        "\n",
        "# Change directory\n",
        "os.chdir('app')\n",
        "print(f\"✅ Changed directory to: {os.getcwd()}\")\n",
        "\n",
        "print(\"⏳ Modifying app.py for public sharing...\")\n",
        "# Modify app.py to add share=True using Python for cross-platform compatibility\n",
        "try:\n",
        "    with open('app.py', 'r') as f:\n",
        "        content = f.read()\n",
        "    # Make sure we only replace the intended .launch() at the end\n",
        "    # This is a bit safer than a blind sed replacement\n",
        "    content = content.replace('demo.launch()', 'demo.launch(share=True)')\n",
        "    with open('app.py', 'w') as f:\n",
        "        f.write(content)\n",
        "    print(\"✅ app.py modified successfully.\")\n",
        "    # Optional: verify the change\n",
        "    # !grep \"launch(share=True)\" app.py\n",
        "except Exception as e:\n",
        "    print(f\"❌ Error modifying app.py: {e}\")\n",
        "    sys.exit(1) # Stop execution if modification fails\n",
        "\n",
        "print(\"⏳ Installing dependencies quietly... (This may take several minutes)\")\n",
        "# Install quietly\n",
        "!pip install --quiet -r requirements.txt spaces > pip_install.log 2>&1\n",
        "# Check if installation seems okay by checking for a common package\n",
        "try:\n",
        "    import gradio\n",
        "    print(\"✅ Dependencies installed successfully.\")\n",
        "except ImportError:\n",
        "    print(\"❌ Dependency installation might have failed. Check pip_install.log for details.\")\n",
        "    # You might want to print the log here if needed: !cat pip_install.log\n",
        "    sys.exit(1) # Stop execution if install fails\n",
        "\n",
        "print(\"\\n🚀 Launching Gradio app... Please wait for the public URL.\")\n",
        "# Run the app - Output will include the Gradio link\n",
        "!python app.py"
      ]
    }
  ]
}