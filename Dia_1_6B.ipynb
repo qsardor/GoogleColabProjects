{
  "nbformat": 4,
  "nbformat_minor": 0,
  "metadata": {
    "colab": {
      "provenance": [],
      "gpuType": "T4",
      "authorship_tag": "ABX9TyNY0NWoC+b9JnqnCkQbFwSU",
      "include_colab_link": true
    },
    "kernelspec": {
      "name": "python3",
      "display_name": "Python 3"
    },
    "language_info": {
      "name": "python"
    },
    "accelerator": "GPU"
  },
  "cells": [
    {
      "cell_type": "markdown",
      "metadata": {
        "id": "view-in-github",
        "colab_type": "text"
      },
      "source": [
        "<a href=\"https://colab.research.google.com/github/qsardor/GoogleColabProjects/blob/main/Dia_1_6B.ipynb\" target=\"_parent\"><img src=\"https://colab.research.google.com/assets/colab-badge.svg\" alt=\"Open In Colab\"/></a>"
      ]
    },
    {
      "cell_type": "code",
      "execution_count": null,
      "metadata": {
        "cellView": "form",
        "id": "FNe9GQ0gu4Ch"
      },
      "outputs": [],
      "source": [
        "#@title  **Launch the code and wait**\n",
        "!git clone -q https://huggingface.co/spaces/nari-labs/Dia-1.6B app\n",
        "%cd app\n",
        "!sed -i \"s/).launch()/).launch(share=True)/\" app.py && echo \"Installation started. It may take a minutes\"\n",
        "!pip install --quiet -r requirements.txt spaces\n",
        "!python app.py"
      ]
    }
  ]
}