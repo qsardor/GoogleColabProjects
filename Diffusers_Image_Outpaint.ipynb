{
  "nbformat": 4,
  "nbformat_minor": 0,
  "metadata": {
    "colab": {
      "provenance": [],
      "gpuType": "T4",
      "authorship_tag": "ABX9TyOXQPEq3pcB5oFVWPMN3bku",
      "include_colab_link": true
    },
    "kernelspec": {
      "name": "python3",
      "display_name": "Python 3"
    },
    "language_info": {
      "name": "python"
    },
    "accelerator": "GPU"
  },
  "cells": [
    {
      "cell_type": "markdown",
      "metadata": {
        "id": "view-in-github",
        "colab_type": "text"
      },
      "source": [
        "<a href=\"https://colab.research.google.com/github/qsardor/GoogleColabProjects/blob/main/Diffusers_Image_Outpaint.ipynb\" target=\"_parent\"><img src=\"https://colab.research.google.com/assets/colab-badge.svg\" alt=\"Open In Colab\"/></a>"
      ]
    },
    {
      "cell_type": "code",
      "source": [
        "%cd diffusers-image-outpaint"
      ],
      "metadata": {
        "id": "zSbhvXACorTx"
      },
      "execution_count": null,
      "outputs": []
    },
    {
      "source": [
        "# Install Requirements\n",
        "!pip install -r requirements.txt\n",
        "# After install requirements, the session will restart. It's okay. Just the continue."
      ],
      "cell_type": "code",
      "metadata": {
        "id": "03VTIEVF0rRg"
      },
      "execution_count": null,
      "outputs": []
    },
    {
      "cell_type": "code",
      "source": [
        "%cd diffusers-image-outpaint"
      ],
      "metadata": {
        "id": "heDXi8orwyv4"
      },
      "execution_count": null,
      "outputs": []
    },
    {
      "cell_type": "markdown",
      "source": [
        "\n",
        "Before the launch, edit `Share=False` into `Share=True` for get public link in app.py"
      ],
      "metadata": {
        "id": "8q6tpRTg8a2t"
      }
    },
    {
      "source": [
        "# Launch App\n",
        "!python app.py"
      ],
      "cell_type": "code",
      "metadata": {
        "id": "ONzuIMV10sjE"
      },
      "execution_count": null,
      "outputs": []
    }
  ]
}