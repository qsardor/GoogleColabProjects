{
  "nbformat": 4,
  "nbformat_minor": 0,
  "metadata": {
    "colab": {
      "provenance": [],
      "gpuType": "T4",
      "authorship_tag": "ABX9TyPzCnbztiMGdG+aWiHKEgi+",
      "include_colab_link": true
    },
    "kernelspec": {
      "name": "python3",
      "display_name": "Python 3"
    },
    "language_info": {
      "name": "python"
    },
    "accelerator": "GPU"
  },
  "cells": [
    {
      "cell_type": "markdown",
      "metadata": {
        "id": "view-in-github",
        "colab_type": "text"
      },
      "source": [
        "<a href=\"https://colab.research.google.com/github/qsardor/GoogleColabProjects/blob/main/Diffusers_Image_Outpaint.ipynb\" target=\"_parent\"><img src=\"https://colab.research.google.com/assets/colab-badge.svg\" alt=\"Open In Colab\"/></a>"
      ]
    },
    {
      "cell_type": "code",
      "source": [
        "#@title  **Launch the code and wait**\n",
        "!git -q clone -q https://huggingface.co/spaces/fffiloni/diffusers-image-outpaint app\n",
        "%cd app\n",
        "!sed -i 's/\\.launch(share=False)/.launch(share=True)/' app.py && echo \"Installation started. It may take a minutes\"\n",
        "!pip install --quiet -r requirements.txt && echo \"Installation succeeded\"\n",
        "!python app.py"
      ],
      "metadata": {
        "id": "iMKeLGIh1hzy",
        "cellView": "form"
      },
      "execution_count": null,
      "outputs": []
    }
  ]
}