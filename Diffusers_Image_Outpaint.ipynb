{
  "nbformat": 4,
  "nbformat_minor": 0,
  "metadata": {
    "colab": {
      "provenance": [],
      "gpuType": "T4",
      "authorship_tag": "ABX9TyOaMom7hjTDgw0sfy1ywcpd",
      "include_colab_link": true
    },
    "kernelspec": {
      "name": "python3",
      "display_name": "Python 3"
    },
    "language_info": {
      "name": "python"
    },
    "accelerator": "GPU"
  },
  "cells": [
    {
      "cell_type": "markdown",
      "metadata": {
        "id": "view-in-github",
        "colab_type": "text"
      },
      "source": [
        "<a href=\"https://colab.research.google.com/github/qsardor/GoogleColabProjects/blob/main/Diffusers_Image_Outpaint.ipynb\" target=\"_parent\"><img src=\"https://colab.research.google.com/assets/colab-badge.svg\" alt=\"Open In Colab\"/></a>"
      ]
    },
    {
      "source": [
        "# Install required tools\n",
        "!pip install gitpython\n",
        "!pip install huggingface_hub"
      ],
      "cell_type": "code",
      "metadata": {
        "id": "qUws9NZT0iXt"
      },
      "execution_count": null,
      "outputs": []
    },
    {
      "source": [
        "from huggingface_hub import snapshot_download, login\n",
        "\n",
        "# Log in to Hugging Face Hub first\n",
        "login() # This will prompt you for your username/password or token"
      ],
      "cell_type": "code",
      "metadata": {
        "id": "mRlpGsgb1pFN"
      },
      "execution_count": null,
      "outputs": []
    },
    {
      "source": [
        "from huggingface_hub import snapshot_download\n",
        "\n",
        "# Specify the Space repository ID and download directory\n",
        "repo_id = \"fffiloni/diffusers-image-outpaint\"\n",
        "local_dir = \".\"  # Download to the current directory\n",
        "\n",
        "# Download the Space snapshot to the specified directory\n",
        "snapshot_download(repo_id=repo_id, repo_type=\"space\", local_dir=local_dir)"
      ],
      "cell_type": "code",
      "metadata": {
        "id": "eIk2eo8A26s6"
      },
      "execution_count": null,
      "outputs": []
    },
    {
      "source": [
        "# Install Requirements\n",
        "!pip install -r requirements.txt"
      ],
      "cell_type": "code",
      "metadata": {
        "id": "03VTIEVF0rRg"
      },
      "execution_count": null,
      "outputs": []
    },
    {
      "cell_type": "markdown",
      "source": [
        "Before the launch edit Share=False into True for get public link in app.py"
      ],
      "metadata": {
        "id": "8q6tpRTg8a2t"
      }
    },
    {
      "source": [
        "# Launch App\n",
        "!python app.py"
      ],
      "cell_type": "code",
      "metadata": {
        "id": "ONzuIMV10sjE"
      },
      "execution_count": null,
      "outputs": []
    }
  ]
}