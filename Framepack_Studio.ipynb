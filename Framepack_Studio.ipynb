{
  "nbformat": 4,
  "nbformat_minor": 0,
  "metadata": {
    "colab": {
      "provenance": [],
      "gpuType": "T4",
      "include_colab_link": true
    },
    "kernelspec": {
      "name": "python3",
      "display_name": "Python 3"
    },
    "language_info": {
      "name": "python"
    },
    "accelerator": "GPU"
  },
  "cells": [
    {
      "cell_type": "markdown",
      "metadata": {
        "id": "view-in-github",
        "colab_type": "text"
      },
      "source": [
        "<a href=\"https://colab.research.google.com/github/qsardor/GoogleColabProjects/blob/main/Framepack_Studio.ipynb\" target=\"_parent\"><img src=\"https://colab.research.google.com/assets/colab-badge.svg\" alt=\"Open In Colab\"/></a>"
      ]
    },
    {
      "cell_type": "markdown",
      "source": [
        "# 🎨 Framepack Studio\n",
        "---\n",
        "Welcome! This notebook provides a one-click way to launch **Framepack Studio**. It will automatically check for a GPU, install all the complex dependencies, and provide a public link to the user interface."
      ],
      "metadata": {
        "id": "welcome_section"
      }
    },
    {
      "cell_type": "markdown",
      "source": [
        "## 📝 Instructions\n",
        "---\n",
        "1.  **Run the cell.** (Make sure you have a GPU enabled: `Runtime` -> `Change runtime type` -> `T4 GPU`).\n",
        "2.  **Wait for the installation to finish.** (This will take several minutes).\n",
        "3.  **Enter the link.** (A public `.gradio.live` link will appear at the end)."
      ],
      "metadata": {
        "id": "instructions_section"
      }
    },
    {
      "cell_type": "code",
      "source": [
        "#@title ▶️ Click Here to Launch Framepack Studio\n",
        "\n",
        "import subprocess\n",
        "import os\n",
        "from IPython.display import display, Markdown\n",
        "\n",
        "print(\"-\"*60)\n",
        "log_file = \"/content/installation_log.txt\"\n",
        "print(f\"Full installation logs will be saved to {log_file}\\n\")\n",
        "\n",
        "# --- 1. GPU Check ---\n",
        "print(\"🔍 Checking for an active GPU...\")\n",
        "try:\n",
        "    subprocess.check_output(['nvidia-smi'])\n",
        "    print(\"✅ GPU detected! Proceeding with installation. ✨\")\n",
        "except (subprocess.CalledProcessError, FileNotFoundError):\n",
        "    display(Markdown(f\"\"\"### ❌ ERROR: No GPU Detected\n",
        "Please enable a GPU to continue. Follow these steps:\n",
        "\n",
        "**1. Go to `Runtime` -> `Change runtime type`.**\n",
        "**2. Select `T4 GPU` from the 'Hardware accelerator' dropdown.**\n",
        "**3. Click `Save` and re-run this cell.**\"\"\"))\n",
        "    # Stop execution if no GPU\n",
        "else:\n",
        "    # --- 2. Install System Dependencies ---\n",
        "    print(\"\\n🔧 Installing system libraries (FFmpeg & others)...\")\n",
        "    get_ipython().system(f'apt-get update -yqq >> {log_file} 2>&1 && apt-get install -yqq libgl1 libglib2.0-0 libsm6 libxext6 libxrender-dev ffmpeg >> {log_file} 2>&1')\n",
        "    print(\"✅ System libraries installed!\")\n",
        "\n",
        "    # --- 3. Clone Repo ---\n",
        "    print(\"\\n🚚 Cloning repository...\")\n",
        "    get_ipython().system(f'git clone -q https://github.com/colinurbs/FramePack-Studio.git >> {log_file} 2>&1')\n",
        "    print(\"✅ Repository cloned successfully!\")\n",
        "\n",
        "    os.chdir('FramePack-Studio')\n",
        "\n",
        "    # --- 4. Fix Dependencies ---\n",
        "    print(\"\\n✏️ Fixing dependencies in requirements.txt (PyTorch CUDA version)...\")\n",
        "    # The original file specifies +cu118, which conflicts with Colab's default CUDA 12.x\n",
        "    # This removes the CUDA pin to let pip find the correct compatible version.\n",
        "    get_ipython().system(f\"sed -i 's/+cu118//g' requirements.txt >> {log_file} 2>&1\")\n",
        "    print(\"✅ Dependencies fixed!\")\n",
        "\n",
        "    # --- 5. Install Python Dependencies ---\n",
        "    print(\"\\n📦 Installing all app libraries from requirements.txt (this is the longest step)...\")\n",
        "    get_ipython().system(f'pip install --quiet -r requirements.txt >> {log_file} 2>&1')\n",
        "    print(\"✅ App libraries installed!\")\n",
        "\n",
        "    # --- 5b. Install xFormers for optimization ---\n",
        "    print(\"\\n⚡ Installing xFormers for performance optimization...\")\n",
        "    get_ipython().system(f'pip install --quiet xformers >> {log_file} 2>&1')\n",
        "    print(\"✅ xFormers installed!\")\n",
        "\n",
        "    # --- 6. Launch App ---\n",
        "    print(\"\\n\\n🚀 Launching Framepack Studio...\")\n",
        "    print(\"🔗 Please wait for the public Gradio URL to appear below.\")\n",
        "    # --share flag is needed to get a public link in Colab\n",
        "    # We do NOT redirect this output, as it contains the link and app status.\n",
        "    get_ipython().system('python studio.py --share')\n",
        ""
      ],
      "metadata": {
        "id": "launch_framepack",
        "cellView": "form"
      },
      "execution_count": null,
      "outputs": []
    },
    {
      "cell_type": "markdown",
      "source": [
        "## Credits & Resources\n",
        "---\n",
        "* **Colab by:** Q.SARDOR ([Telegram](https://t.me/qsardorblog) | [GitHub](https://github.com/qsardor/))\n",
        "* **More Colab Projects:** [Explore on GitHub](https://github.com/qsardor/GoogleColabProjects)\n",
        "* **Original Project:** [colinurbs/FramePack-Studio (GitHub)](https://github.com/colinurbs/FramePack-Studio)"
      ],
      "metadata": {
        "id": "credits_section"
      }
    }
  ]
}