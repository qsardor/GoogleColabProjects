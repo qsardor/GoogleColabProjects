{
  "nbformat": 4,
  "nbformat_minor": 0,
  "metadata": {
    "kernelspec": {
      "name": "python3",
      "display_name": "Python 3"
    },
    "language_info": {
      "name": "python"
    },
    "colab": {
      "provenance": [],
      "gpuType": "T4",
      "include_colab_link": true
    },
    "accelerator": "GPU"
  },
  "cells": [
    {
      "cell_type": "markdown",
      "metadata": {
        "id": "view-in-github",
        "colab_type": "text"
      },
      "source": [
        "<a href=\"https://colab.research.google.com/github/qsardor/GoogleColabProjects/blob/main/qwen_image_edit_2509(Multi).ipynb\" target=\"_parent\"><img src=\"https://colab.research.google.com/assets/colab-badge.svg\" alt=\"Open In Colab\"/></a>"
      ]
    },
    {
      "cell_type": "markdown",
      "source": [
        "# 🎨 Qwen Image Edit (Google Colab)\n",
        "---\n",
        "Welcome! This notebook provides a one-click way to launch the **Qwen Image Edit** app. It will automatically check for a GPU, install all dependencies, and provide a public link to the user interface.\n",
        "\n",
        "But You also can use QWEN-IMAGE-EDIT from their [official site](https://chat.qwen.ai/) if you don't wanna make the suffer the Google Colab's GPU."
      ],
      "metadata": {
        "id": "welcome_section"
      }
    },
    {
      "cell_type": "markdown",
      "source": [
        "## 📝 Instructions\n",
        "---\n",
        "1.  **Enable the GPU.** Go to `Runtime` -> `Change runtime type` and select `T4 GPU` (or any available GPU).\n",
        "2.  **Run the cell.** Click the \"Play\" button on the cell below.\n",
        "3.  **Wait for the installation to finish.** (This will take several minutes).\n",
        "4.  **Enter the link.** (A public `.gradio.live` link will appear at the end)."
      ],
      "metadata": {
        "id": "instructions_section"
      }
    },
    {
      "cell_type": "code",
      "source": [
        "#@title ▶️ Click Here to Launch Qwen Image Edit\n",
        "\n",
        "import subprocess\n",
        "import os\n",
        "from IPython.display import display, Markdown\n",
        "\n",
        "print(\"-\"*60)\n",
        "log_file = \"/content/installation_log.txt\"\n",
        "print(f\"Full installation logs will be saved to {log_file}\\n\")\n",
        "\n",
        "# --- 1. GPU Check ---\n",
        "print(\"🔍 Checking for an active GPU...\")\n",
        "try:\n",
        "    subprocess.check_output(['nvidia-smi'])\n",
        "    print(\"✅ GPU detected! Proceeding with installation. ✨\")\n",
        "except (subprocess.CalledProcessError, FileNotFoundError):\n",
        "    display(Markdown(f\"\"\"### ❌ ERROR: No GPU Detected\n",
        "Please enable a GPU to continue. Follow these steps:\n",
        "\n",
        "**1. Go to `Runtime` -> `Change runtime type`.**\n",
        "**2. Select `T4 GPU` (or any available GPU) from the dropdown.**\n",
        "**3. Click `Save` and re-run this cell.**\"\"\"))\n",
        "    # Stop execution if no GPU\n",
        "else:\n",
        "    # --- 2. Install System Libraries ---\n",
        "    print(\"\\n🔧 Installing system libraries (FFmpeg & others)...\")\n",
        "    get_ipython().system(f'apt-get update -y -qq > {log_file} 2>&1')\n",
        "    # Combine all system installs into one command\n",
        "    get_ipython().system(f'apt-get install -y -qq libjpeg-dev zlib1g-dev libpng-dev libgl1 libglib2.0-0 ffmpeg >> {log_file} 2>&1')\n",
        "    print(\"✅ System libraries installed!\")\n",
        "\n",
        "    # --- 3. Clone Repo ---\n",
        "    print(\"\\n🚚 Cloning repository into 'app' directory...\")\n",
        "    get_ipython().system(f'git clone -q https://huggingface.co/spaces/akhaliq/Qwen-Image-Edit-2509 app >> {log_file} 2>&1')\n",
        "    print(\"✅ Repository cloned successfully!\")\n",
        "\n",
        "    os.chdir('app')\n",
        "\n",
        "    # --- 4. Install Python Dependencies ---\n",
        "    print(\"\\n📦 Installing Python libraries (this is the longest step)...\")\n",
        "    # Fix for Colab: Use cu121 index, not cu128\n",
        "    get_ipython().system(f'pip install -q torch torchvision --index-url https://download.pytorch.org/whl/cu121 >> {log_file} 2>&1')\n",
        "    get_ipython().system(f'pip install -q -r requirements.txt >> {log_file} 2>&1')\n",
        "    get_ipython().system(f'pip install -q spaces >> {log_file} 2>&1')\n",
        "    print(\"✅ Python libraries installed!\")\n",
        "\n",
        "    # --- 5. Configure for Public Link ---\n",
        "    print(\"\\n🔧 Configuring application (for public share link)...\")\n",
        "    # Add share=True to the demo.launch() command in app.py\n",
        "    get_ipython().system(f\"sed -i 's/demo.launch()/demo.launch(share=True)/g' app.py\")\n",
        "    print(\"✅ Configuration complete!\")\n",
        "\n",
        "    # --- 6. Launch App ---\n",
        "    print(\"\\n\\n🚀 Launching Qwen Image Edit...\")\n",
        "    print(\"🔗 Please wait for the public Gradio URL to appear below.\")\n",
        "    # We do NOT redirect this output, as it contains the link.\n",
        "    get_ipython().system('python app.py')\n"
      ],
      "metadata": {
        "id": "launch_qwen_colab",
        "cellView": "form"
      },
      "execution_count": null,
      "outputs": []
    },
    {
      "cell_type": "markdown",
      "source": [
        "## Credits & Resources\n",
        "---\n",
        "* **Colab by:** Q.SARDOR ([Telegram](https://t.me/qsardorblog) | [GitHub](https://github.com/qsardor/))\n",
        "* **More Colab Projects:** [Explore on GitHub](https://github.com/qsardor/GoogleColabProjects)\n",
        "* **Original Project:** [Qwen-Image-Edit-2509 (Hugging Face)](https://huggingface.co/spaces/akhaliq/Qwen-Image-Edit-2509)"
      ],
      "metadata": {
        "id": "credits_section"
      }
    }
  ]
}