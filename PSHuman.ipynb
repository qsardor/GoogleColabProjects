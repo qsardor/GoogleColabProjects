{
  "nbformat": 4,
  "nbformat_minor": 0,
  "metadata": {
    "colab": {
      "provenance": [],
      "gpuType": "T4",
      "authorship_tag": "ABX9TyO6XWLJijixWnZQqfrupQbJ",
      "include_colab_link": true
    },
    "kernelspec": {
      "name": "python3",
      "display_name": "Python 3"
    },
    "language_info": {
      "name": "python"
    },
    "accelerator": "GPU"
  },
  "cells": [
    {
      "cell_type": "markdown",
      "metadata": {
        "id": "view-in-github",
        "colab_type": "text"
      },
      "source": [
        "<a href=\"https://colab.research.google.com/github/qsardor/GoogleColabProjects/blob/main/PSHuman.ipynb\" target=\"_parent\"><img src=\"https://colab.research.google.com/assets/colab-badge.svg\" alt=\"Open In Colab\"/></a>"
      ]
    },
    {
      "cell_type": "code",
      "execution_count": null,
      "metadata": {
        "id": "pDmXEO9eEhxN"
      },
      "outputs": [],
      "source": [
        "!git clone -q https://huggingface.co/spaces/fffiloni/PSHuman app\n",
        "%cd app\n",
        "\n",
        "# Fix requirements.txt: Remove problematic Kaolin line and adjust PyTorch versions\n",
        "!sed -i \"s/kaolin.*//g\" requirements.txt\n",
        "!sed -i \"s/torch==2.1.0/torch==2.0.1+cu118/\" requirements.txt\n",
        "!sed -i \"s/torchvision==0.16.0/torchvision==0.15.2+cu118/\" requirements.txt\n",
        "!echo \"https://nvidia-kaolin.s3.us-east-2.amazonaws.com/torch-2.0.1_cu118/kaolin-0.15.0-cp310-cp310-linux_x86_64.whl\" >> requirements.txt\n",
        "\n",
        "# Install requirements with upgraded pip\n",
        "!pip install --upgrade pip\n",
        "!pip install --quiet -r requirements.txt\n",
        "!pip install --quiet gradio==5.8.0 rembg onnxruntime\n",
        "\n",
        "# Launch the app\n",
        "!sed -i \"s/).launch(show_api=False, show_error=True, ssr_mode=False)/).launch(show_api=False, show_error=True, ssr_mode=False, share=True)/\" app.py\n",
        "!python app.py"
      ]
    }
  ]
}