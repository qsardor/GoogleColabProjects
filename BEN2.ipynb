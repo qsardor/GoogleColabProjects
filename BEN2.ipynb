{
  "cells": [
    {
      "cell_type": "markdown",
      "metadata": {
        "id": "view-in-github",
        "colab_type": "text"
      },
      "source": [
        "<a href=\"https://colab.research.google.com/github/qsardor/GoogleColabProjects/blob/main/BEN2.ipynb\" target=\"_parent\"><img src=\"https://colab.research.google.com/assets/colab-badge.svg\" alt=\"Open In Colab\"/></a>"
      ]
    },
    {
      "cell_type": "code",
      "execution_count": null,
      "metadata": {
        "id": "ForBB3h6o2uo",
        "cellView": "form"
      },
      "outputs": [],
      "source": [
        "#@title  **Launch the code and wait**\n",
        "!git clone -q https://huggingface.co/spaces/PramaLLC/BEN2 app\n",
        "%cd app\n",
        "!sed -i 's/demo.launch(show_error=True)/demo.launch(show_error=True, share=True)/g' app.py\n",
        "!pip install --quiet spaces\n",
        "!pip install --quiet -r requirements.txt && echo \"Installation succeeded. Launching the BEN2...\"\n",
        "!python app.py"
      ]
    }
  ],
  "metadata": {
    "accelerator": "GPU",
    "colab": {
      "gpuType": "T4",
      "provenance": [],
      "authorship_tag": "ABX9TyPBTN1+9RkWxGKug20wz/7E",
      "include_colab_link": true
    },
    "kernelspec": {
      "display_name": "Python 3",
      "name": "python3"
    },
    "language_info": {
      "name": "python"
    }
  },
  "nbformat": 4,
  "nbformat_minor": 0
}