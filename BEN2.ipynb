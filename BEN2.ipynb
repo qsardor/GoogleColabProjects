{
  "nbformat": 4,
  "nbformat_minor": 0,
  "metadata": {
    "colab": {
      "provenance": [],
      "gpuType": "T4",
      "include_colab_link": true
    },
    "kernelspec": {
      "name": "python3",
      "display_name": "Python 3"
    },
    "language_info": {
      "name": "python"
    },
    "accelerator": "GPU"
  },
  "cells": [
    {
      "cell_type": "markdown",
      "metadata": {
        "id": "view-in-github",
        "colab_type": "text"
      },
      "source": [
        "<a href=\"https://colab.research.google.com/github/qsardor/GoogleColabProjects/blob/main/BEN2.ipynb\" target=\"_parent\"><img src=\"https://colab.research.google.com/assets/colab-badge.svg\" alt=\"Open In Colab\"/></a>"
      ]
    },
    {
      "cell_type": "markdown",
      "source": [
        "# 🚀 BEN2: Background Erase Network\n",
        "---\n",
        "### **🇬🇧 English**\n",
        "Welcome! This notebook provides a one-click way to launch the **BEN2 (Background Erase Network)** application. It will automatically check for a GPU, install the necessary files, and provide a public link to the user interface.\n",
        "\n",
        "### **🇷🇺 Русский**\n",
        "Добро пожаловать! Этот ноутбук предоставляет запуск приложения **BEN2 (Сеть для Удаления Фона)** в один клик. Он автоматически проверит наличие GPU, установит необходимые файлы и предоставит публичную ссылку на пользовательский интерфейс.\n",
        "\n",
        "### **🇺🇿 O'zbekcha**\n",
        "Xush kelibsiz! Ushbu dastur **BEN2 (Orqa Fonni O'chirish)** ilovasini bir bosishda ishga tushirish imkonini beradi. U avtomatik ravishda GPU mavjudligini tekshiradi, kerakli fayllarni o'rnatadi va foydalanuvchi interfeysi uchun ommaviy havolani taqdim etadi."
      ],
      "metadata": {
        "id": "welcome_section"
      }
    },
    {
      "cell_type": "markdown",
      "source": [
        "## 📝 Instructions\n",
        "---\n",
        "### **🇬🇧 English**\n",
        "1.  **Run the cell.**\n",
        "2.  **Wait for the installation to finish.**\n",
        "3.  **Enter the link.**\n",
        "\n",
        "### **🇷🇺 Русский**\n",
        "1.  **Запустите ячейку.**\n",
        "2.  **Дождитесь окончания установки.**\n",
        "3.  **Перейдите по ссылке.**\n",
        "\n",
        "### **🇺🇿 O'zbekcha**\n",
        "1.  **Katakchani ishga tushiring.**\n",
        "2.  **O'rnatish tugashini kuting.**\n",
        "3.  **Havolaga kiring.**"
      ],
      "metadata": {
        "id": "instructions_section"
      }
    },
    {
      "cell_type": "code",
      "source": [
        "#@title ▶️ 1. Select Language & 2. Click Here to Launch\n",
        "#@markdown ---\n",
        "language = 'English' #@param [\"English\", \"Russian\", \"Uzbek\"]\n",
        "\n",
        "import subprocess\n",
        "import os\n",
        "from IPython.display import display, Markdown, clear_output\n",
        "\n",
        "translations = {\n",
        "    'English': {\n",
        "        'checking_gpu': \"🔍 Checking for an active GPU...\",\n",
        "        'gpu_detected': \"✅ GPU detected! Proceeding with installation. ✨\",\n",
        "        'cloning_repo': \"\\n🚚 Cloning repository...\",\n",
        "        'clone_success': \"✅ Repository cloned successfully!\",\n",
        "        'configuring_app': \"\\n🔧 Configuring application...\",\n",
        "        'config_success': \"✅ Configuration complete!\",\n",
        "        'installing_deps': \"\\n📦 Installing libraries (this may take a few minutes)...\",\n",
        "        'install_success': \"✅ Libraries installed successfully!\",\n",
        "        'launching_app': \"\\n\\n🚀 Launching the application...\",\n",
        "        'wait_for_url': \"🔗 Please wait for the public Gradio URL to appear below.\",\n",
        "        'gpu_error_title': \"\\n❌ ERROR: No GPU Detected\",\n",
        "        'gpu_error_enable': \"Please enable a GPU to continue. Follow these steps:\",\n",
        "        'gpu_error_steps': \"**1. Go to `Runtime` -> `Change runtime type`.**\\n**2. Select `T4 GPU` from the 'Hardware accelerator' dropdown.**\\n**3. Click `Save` and re-run this cell.**\"\n",
        "    },\n",
        "    'Russian': {\n",
        "        'checking_gpu': \"🔍 Проверка наличия активного GPU...\",\n",
        "        'gpu_detected': \"✅ GPU обнаружен! Приступаем к установке. ✨\",\n",
        "        'cloning_repo': \"\\n🚚 Клонирование репозитория...\",\n",
        "        'clone_success': \"✅ Репозиторий успешно клонирован!\",\n",
        "        'configuring_app': \"\\n🔧 Настройка приложения...\",\n",
        "        'config_success': \"✅ Настройка завершена!\",\n",
        "        'installing_deps': \"\\n📦 Установка библиотек (это может занять несколько минут)...\",\n",
        "        'install_success': \"✅ Библиотеки успешно установлены!\",\n",
        "        'launching_app': \"\\n\\n🚀 Запуск приложения...\",\n",
        "        'wait_for_url': \"🔗 Пожалуйста, подождите, пока ниже появится публичный URL-адрес Gradio.\",\n",
        "        'gpu_error_title': \"\\n❌ ОШИБКА: GPU не обнаружен\",\n",
        "        'gpu_error_enable': \"Пожалуйста, включите GPU, чтобы продолжить. Выполните следующие шаги:\",\n",
        "        'gpu_error_steps': \"**1. Перейдите в `Среда выполнения` -> `Сменить среду выполнения`.**\\n**2. В выпадающем списке 'Аппаратный ускоритель' выберите `T4 GPU`.**\\n**3. Нажмите `Сохранить` и снова запустите эту ячейку.**\"\n",
        "    },\n",
        "    'Uzbek': {\n",
        "        'checking_gpu': \"🔍 Faol GPU tekshirilmoqda...\",\n",
        "        'gpu_detected': \"✅ GPU topildi! O'rnatish jarayoni boshlanmoqda. ✨\",\n",
        "        'cloning_repo': \"\\n🚚 Repozitoriy klonlanmoqda...\",\n",
        "        'clone_success': \"✅ Repozitoriy muvaffaqiyatli klonlandi!\",\n",
        "        'configuring_app': \"\\n🔧 Ilova sozlanmoqda...\",\n",
        "        'config_success': \"✅ Sozlash tugallandi!\",\n",
        "        'installing_deps': \"\\n📦 Kutubxonalar o'rnatilmoqda (bu bir necha daqiqa vaqt olishi mumkin)...\",\n",
        "        'install_success': \"✅ Kutubxonalar muvaffaqiyatli o'rnatildi!\",\n",
        "        'launching_app': \"\\n\\n🚀 Ilova ishga tushirilmoqda...\",\n",
        "        'wait_for_url': \"🔗 Iltimos, quyida ommaviy Gradio URL manzili paydo bo'lishini kuting.\",\n",
        "        'gpu_error_title': \"\\n❌ XATO: GPU Topilmadi\",\n",
        "        'gpu_error_enable': \"Davom etish uchun GPU'ni yoqing. Quyidagi amallarni bajaring:\",\n",
        "        'gpu_error_steps': \"**1. `Runtime` -> `Change runtime type` (`Иш вақти` -> `Иш вақти турини ўзгартириш`) ga o'ting.**\\n**2. 'Hardware accelerator' (`Аппарат тезлатгич`) menyusidan `T4 GPU` ni tanlang.**\\n**3. `Save` (`Сақлаш`) tugmasini bosing va ushbu katakchani qayta ishga tushiring.**\"\n",
        "    }\n",
        "}\n",
        "\n",
        "selected_lang = translations[language]\n",
        "clear_output(wait=True)\n",
        "\n",
        "print(\"-\"*60)\n",
        "\n",
        "print(selected_lang['checking_gpu'])\n",
        "try:\n",
        "    subprocess.check_output(['nvidia-smi'])\n",
        "    print(selected_lang['gpu_detected'])\n",
        "except (subprocess.CalledProcessError, FileNotFoundError):\n",
        "    display(Markdown(f\"\"\"### {selected_lang['gpu_error_title']}\\n{selected_lang['gpu_error_enable']}\\n\\n{selected_lang['gpu_error_steps']}\"\"\"))\n",
        "    # Stop execution if no GPU\n",
        "else:\n",
        "    print(selected_lang['cloning_repo'])\n",
        "    get_ipython().system('git clone -q https://huggingface.co/spaces/PramaLLC/BEN2 app')\n",
        "    print(selected_lang['clone_success'])\n",
        "\n",
        "    os.chdir('app')\n",
        "\n",
        "    print(selected_lang['configuring_app'])\n",
        "    get_ipython().system(\"sed -i 's/demo.launch(show_error=True)/demo.launch(show_error=True, share=True)/g' app.py\")\n",
        "    print(selected_lang['config_success'])\n",
        "\n",
        "    print(selected_lang['installing_deps'])\n",
        "    get_ipython().system('pip install --quiet -r requirements.txt')\n",
        "    print(selected_lang['install_success'])\n",
        "\n",
        "    print(selected_lang['launching_app'])\n",
        "    print(selected_lang['wait_for_url'])\n",
        "    get_ipython().system('python app.py')"
      ],
      "metadata": {
        "id": "ForBB3h6o2uo",
        "cellView": "form"
      },
      "execution_count": null,
      "outputs": []
    },
    {
      "cell_type": "markdown",
      "source": [
        "## Q.SARDOR ([Telegram](https://t.me/qsardorblog) | [GitHub](https://github.com/qsardor/))\n",
        "* **Google Colab Projects:** [GitHub](https://github.com/qsardor/GoogleColabProjects)\n",
        "* **HuggingFace** [Hugging Face Space](https://huggingface.co/spaces/PramaLLC/BEN2)"
      ],
      "metadata": {
        "id": "credits_section"
      }
    }
  ]
}