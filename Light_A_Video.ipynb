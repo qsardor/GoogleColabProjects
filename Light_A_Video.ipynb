{
  "nbformat": 4,
  "nbformat_minor": 0,
  "metadata": {
    "colab": {
      "provenance": [],
      "gpuType": "T4",
      "private_outputs": true,
      "authorship_tag": "ABX9TyMgFzwr7nNOOjaDqn/vsa3q",
      "include_colab_link": true
    },
    "kernelspec": {
      "name": "python3",
      "display_name": "Python 3"
    },
    "language_info": {
      "name": "python"
    },
    "accelerator": "GPU"
  },
  "cells": [
    {
      "cell_type": "markdown",
      "metadata": {
        "id": "view-in-github",
        "colab_type": "text"
      },
      "source": [
        "<a href=\"https://colab.research.google.com/github/qsardor/GoogleColabProjects/blob/main/Light_A_Video.ipynb\" target=\"_parent\"><img src=\"https://colab.research.google.com/assets/colab-badge.svg\" alt=\"Open In Colab\"/></a>"
      ]
    },
    {
      "cell_type": "code",
      "execution_count": null,
      "metadata": {
        "id": "kSfC0iKlzgya"
      },
      "outputs": [],
      "source": [
        "!git clone -q https://huggingface.co/spaces/fffiloni/Light-A-Video app\n",
        "%cd app\n",
        "!sed -i \"s/).launch(show_api=False, show_error=True, ssr_mode=False)/).launch(show_api=False, show_error=True, ssr_mode=False, share=True)/\" gradio_app.py\n",
        "!pip install --quiet -r requirements.txt && pip install --quiet gradio\n",
        "!python gradio_app.py"
      ]
    }
  ]
}