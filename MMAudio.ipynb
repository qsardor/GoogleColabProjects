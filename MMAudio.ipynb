{
  "nbformat": 4,
  "nbformat_minor": 0,
  "metadata": {
    "colab": {
      "provenance": [],
      "gpuType": "T4",
      "include_colab_link": true
    },
    "kernelspec": {
      "name": "python3",
      "display_name": "Python 3"
    },
    "language_info": {
      "name": "python"
    },
    "accelerator": "GPU"
  },
  "cells": [
    {
      "cell_type": "markdown",
      "metadata": {
        "id": "view-in-github",
        "colab_type": "text"
      },
      "source": [
        "<a href=\"https://colab.research.google.com/github/qsardor/GoogleColabProjects/blob/main/MMAudio.ipynb\" target=\"_parent\"><img src=\"https://colab.research.google.com/assets/colab-badge.svg\" alt=\"Open In Colab\"/></a>"
      ]
    },
    {
      "cell_type": "markdown",
      "source": [
        "## Install dependencies"
      ],
      "metadata": {
        "id": "nq1Ytxi_gJnh"
      }
    },
    {
      "cell_type": "code",
      "source": [
        "!git clone https://huggingface.co/spaces/hkchengrex/MMAudio app\n",
        "%cd app\n",
        "!sed -i 's/).launch(allowed_paths=\\[output_dir\\])/).launch(allowed_paths=\\[output_dir\\], share=True)/' app.py\n",
        "!pip install spaces\n",
        "!pip install -r requirements.txt"
      ],
      "metadata": {
        "id": "_AfRS5XcKzGA"
      },
      "execution_count": null,
      "outputs": []
    },
    {
      "cell_type": "markdown",
      "source": [
        "After install requirements, the session will restart."
      ],
      "metadata": {
        "id": "LKfUDSK0LJXm"
      }
    },
    {
      "cell_type": "markdown",
      "source": [
        "Launch the APP and enjoy :)"
      ],
      "metadata": {
        "id": "5b_9hmSiP0my"
      }
    },
    {
      "cell_type": "code",
      "source": [
        "!python app/app.py"
      ],
      "metadata": {
        "id": "fw8ResagMPtf"
      },
      "execution_count": null,
      "outputs": []
    }
  ]
}