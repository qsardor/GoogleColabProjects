{
  "nbformat": 4,
  "nbformat_minor": 0,
  "metadata": {
    "colab": {
      "provenance": [],
      "gpuType": "T4",
      "include_colab_link": true
    },
    "kernelspec": {
      "name": "python3",
      "display_name": "Python 3"
    },
    "language_info": {
      "name": "python"
    },
    "accelerator": "GPU"
  },
  "cells": [
    {
      "cell_type": "markdown",
      "metadata": {
        "id": "view-in-github",
        "colab_type": "text"
      },
      "source": [
        "<a href=\"https://colab.research.google.com/github/qsardor/GoogleColabProjects/blob/main/MMAudio.ipynb\" target=\"_parent\"><img src=\"https://colab.research.google.com/assets/colab-badge.svg\" alt=\"Open In Colab\"/></a>"
      ]
    },
    {
      "cell_type": "code",
      "source": [
        "#@title  **Launch the code and wait**\n",
        "!git clone -q https://huggingface.co/spaces/hkchengrex/MMAudio app\n",
        "%cd app\n",
        "!sed -i 's/).launch(allowed_paths=\\[output_dir\\])/).launch(allowed_paths=\\[output_dir\\], share=True)/' app.py && echo \"Installation started. It may take a minutes\"\n",
        "!pip install --quiet -r requirements.txt && pip install --quiet spaces && echo \"Installation succeeded. Launching the MMAudio...\"\n",
        "!python app.py"
      ],
      "metadata": {
        "id": "_AfRS5XcKzGA"
      },
      "execution_count": null,
      "outputs": []
    }
  ]
}