{
  "nbformat": 4,
  "nbformat_minor": 0,
  "metadata": {
    "colab": {
      "provenance": [],
      "authorship_tag": "ABX9TyN3Grxlgzx8xne6iJEvLyBE",
      "include_colab_link": true
    },
    "kernelspec": {
      "name": "python3",
      "display_name": "Python 3"
    },
    "language_info": {
      "name": "python"
    }
  },
  "cells": [
    {
      "cell_type": "markdown",
      "metadata": {
        "id": "view-in-github",
        "colab_type": "text"
      },
      "source": [
        "<a href=\"https://colab.research.google.com/github/qsardor/GoogleColabProjects/blob/main/Torrent_Downloader.ipynb\" target=\"_parent\"><img src=\"https://colab.research.google.com/assets/colab-badge.svg\" alt=\"Open In Colab\"/></a>"
      ]
    },
    {
      "cell_type": "code",
      "execution_count": null,
      "metadata": {
        "id": "1lGcLTWOdJSA"
      },
      "outputs": [],
      "source": [
        "!pip install libtorrent gradio -q # Changed package name to libtorrent instead of python-libtorrent\n",
        "\n",
        "import libtorrent as lt\n",
        "import time\n",
        "import gradio as gr\n",
        "\n",
        "# ... (rest of your code remains the same)\n",
        "\n",
        "def download_torrent(magnet_link):\n",
        "    # Initialize session\n",
        "    ses = lt.session()\n",
        "    ses.listen_on(6881, 6891)\n",
        "    params = {\n",
        "        'save_path': '/content/',\n",
        "        'storage_mode': lt.storage_mode_t(2)\n",
        "    }\n",
        "\n",
        "    # Add torrent\n",
        "    handle = lt.add_magnet_uri(ses, magnet_link, params)\n",
        "    ses.start_dht()\n",
        "\n",
        "    # Wait for metadata\n",
        "    print(\"Fetching metadata...\")\n",
        "    while not handle.has_metadata():\n",
        "        time.sleep(1)\n",
        "\n",
        "    torinfo = handle.get_torrent_info()\n",
        "    filename = torinfo.name()\n",
        "    file_path = f\"/content/{filename}\"\n",
        "\n",
        "    # Start download\n",
        "    print(\"Downloading...\")\n",
        "    while handle.status().state != lt.torrent_status.seeding:\n",
        "        s = handle.status()\n",
        "        print(f'Progress: {s.progress * 100:.2f}% | Speed: {s.download_rate / 1000:.1f} kB/s')\n",
        "        time.sleep(5)\n",
        "\n",
        "    return file_path\n",
        "\n",
        "# Gradio interface\n",
        "iface = gr.Interface(\n",
        "    fn=download_torrent,\n",
        "    inputs=gr.Textbox(label=\"Magnet Link\", placeholder=\"Enter magnet link here...\"),\n",
        "    outputs=gr.File(label=\"Download File\"),\n",
        "    title=\"Torrent Downloader\",\n",
        "    description=\"Enter a magnet link to download content (Note: Colab sessions are temporary!)\"\n",
        ")\n",
        "\n",
        "iface.launch(share=True)"
      ]
    }
  ]
}