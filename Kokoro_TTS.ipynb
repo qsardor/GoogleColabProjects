{
  "nbformat": 4,
  "nbformat_minor": 0,
  "metadata": {
    "colab": {
      "private_outputs": true,
      "provenance": [],
      "gpuType": "T4",
      "authorship_tag": "ABX9TyPbi9qCGhcLw5bqSkRPHq9E",
      "include_colab_link": true
    },
    "kernelspec": {
      "name": "python3",
      "display_name": "Python 3"
    },
    "language_info": {
      "name": "python"
    },
    "accelerator": "GPU"
  },
  "cells": [
    {
      "cell_type": "markdown",
      "metadata": {
        "id": "view-in-github",
        "colab_type": "text"
      },
      "source": [
        "<a href=\"https://colab.research.google.com/github/qsardor/GoogleColabProjects/blob/main/Kokoro_TTS.ipynb\" target=\"_parent\"><img src=\"https://colab.research.google.com/assets/colab-badge.svg\" alt=\"Open In Colab\"/></a>"
      ]
    },
    {
      "cell_type": "code",
      "execution_count": null,
      "metadata": {
        "id": "ShUB-8YJoAPS",
        "cellView": "form"
      },
      "outputs": [],
      "source": [
        "#@title  **Launch the code and wait**\n",
        "!git clone -q https://huggingface.co/spaces/hexgrad/Kokoro-TTS app\n",
        "%cd app\n",
        "!sed -i \"s/).launch(show_api=API_OPEN, ssr_mode=True)/).launch(show_api=API_OPEN, ssr_mode=True, share=True)/\" app.py\n",
        "!pip install --quiet -r requirements.txt && pip install --quiet gradio spaces\n",
        "!python app.py"
      ]
    }
  ]
}